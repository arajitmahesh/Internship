{
 "cells": [
  {
   "cell_type": "markdown",
   "metadata": {},
   "source": [
    "# Xpath = //tagname[@attribute='value']"
   ]
  },
  {
   "cell_type": "markdown",
   "metadata": {},
   "source": [
    "# xpath = //tagname[@attribute1='value' and(or) @attribute='value']"
   ]
  },
  {
   "cell_type": "markdown",
   "metadata": {},
   "source": [
    "# xpath =//tagename[starts_with@src,https]"
   ]
  },
  {
   "cell_type": "markdown",
   "metadata": {},
   "source": [
    "# xpath = //*[text()='search google or enter url']"
   ]
  },
  {
   "cell_type": "code",
   "execution_count": 3,
   "metadata": {},
   "outputs": [],
   "source": [
    "import selenium\n",
    "import pandas as pd\n",
    "from selenium import webdriver\n",
    "import warnings\n",
    "warnings.filterwarnings('ignore')"
   ]
  },
  {
   "cell_type": "code",
   "execution_count": 2,
   "metadata": {},
   "outputs": [],
   "source": [
    "driver = webdriver.Chrome(r\"C:/Users/RAJIT/Downloads/chromedriver_win32/chromedriver.exe\")"
   ]
  },
  {
   "cell_type": "code",
   "execution_count": 313,
   "metadata": {},
   "outputs": [],
   "source": [
    "#driver.close()"
   ]
  },
  {
   "cell_type": "code",
   "execution_count": 338,
   "metadata": {},
   "outputs": [],
   "source": [
    "driver.get('https://www.naukri.com/')"
   ]
  },
  {
   "cell_type": "code",
   "execution_count": 322,
   "metadata": {},
   "outputs": [],
   "source": [
    "skill=driver.find_element_by_id('qsb-keyword-sugg')\n",
    "skill.send_keys('Data Analyst')\n",
    "location=driver.find_element_by_id('qsb-location-sugg')\n",
    "location.send_keys('Bangalore')\n",
    "search=driver.find_element_by_class_name('btn')\n",
    "search.click()"
   ]
  },
  {
   "cell_type": "code",
   "execution_count": 323,
   "metadata": {},
   "outputs": [],
   "source": [
    "titles=[]\n",
    "title_tags=driver.find_elements_by_xpath(\"//a[@class='title fw500 ellipsis']\")"
   ]
  },
  {
   "cell_type": "code",
   "execution_count": 324,
   "metadata": {},
   "outputs": [
    {
     "data": {
      "text/plain": [
       "['Assistant/deputy Manager - Geo-spatial Data Analyst',\n",
       " 'Senior Data Analyst',\n",
       " 'Senior Data Analyst',\n",
       " 'SENIOR ASSOCIATE ENGINEER - SCM - DATA ANALYST',\n",
       " 'Senior Data Analyst',\n",
       " 'Data Analyst',\n",
       " 'Data Analyst / Engineer',\n",
       " 'Data Analyst (On Contract)',\n",
       " 'Senior Data Analyst',\n",
       " 'Senior Data Analyst for HANA Platform']"
      ]
     },
     "execution_count": 324,
     "metadata": {},
     "output_type": "execute_result"
    }
   ],
   "source": [
    "for i in title_tags:\n",
    "    title=i.text\n",
    "    titles.append(title)\n",
    "titles=titles[0:10]\n",
    "titles"
   ]
  },
  {
   "cell_type": "code",
   "execution_count": 326,
   "metadata": {},
   "outputs": [],
   "source": [
    "companies=[]\n",
    "companies_tag=driver.find_elements_by_xpath(\"//a[@class='subTitle ellipsis fleft']\")"
   ]
  },
  {
   "cell_type": "code",
   "execution_count": 327,
   "metadata": {},
   "outputs": [
    {
     "data": {
      "text/plain": [
       "['Maruti Suzuki India',\n",
       " 'Rapido',\n",
       " 'SYREN TECHNOLOGIES PRIVATE LIMITED',\n",
       " 'Collins Aerospace',\n",
       " 'Flipkart',\n",
       " 'GlaxoSmithKline Pharmaceuticals Limited',\n",
       " 'Animaker India Private Limited',\n",
       " 'Rupeek Fintech Pvt Ltd',\n",
       " 'Flipkart',\n",
       " 'Intel']"
      ]
     },
     "execution_count": 327,
     "metadata": {},
     "output_type": "execute_result"
    }
   ],
   "source": [
    "for i in companies_tag:\n",
    "    company=i.text\n",
    "    companies.append(company)\n",
    "companies=companies[0:10]\n",
    "companies"
   ]
  },
  {
   "cell_type": "code",
   "execution_count": 328,
   "metadata": {},
   "outputs": [],
   "source": [
    "job_locations=[]\n",
    "job_locations_tags=driver.find_elements_by_xpath(\"//span[@class='ellipsis fleft fs12 lh16 ']\")"
   ]
  },
  {
   "cell_type": "code",
   "execution_count": 329,
   "metadata": {},
   "outputs": [
    {
     "data": {
      "text/plain": [
       "['Gurgaon/Gurugram, bangalore',\n",
       " 'Bangalore/Bengaluru',\n",
       " 'Not disclosed',\n",
       " 'Not disclosed',\n",
       " 'Not disclosed',\n",
       " 'Not disclosed',\n",
       " 'Not disclosed',\n",
       " 'Not disclosed',\n",
       " 'Not disclosed',\n",
       " 'Not disclosed']"
      ]
     },
     "execution_count": 329,
     "metadata": {},
     "output_type": "execute_result"
    }
   ],
   "source": [
    "for i in job_locations_tags:\n",
    "    location=i.text\n",
    "    job_locations.append(location)\n",
    "job_locations=job_locations[2:30:3]\n",
    "job_locations"
   ]
  },
  {
   "cell_type": "code",
   "execution_count": 331,
   "metadata": {},
   "outputs": [],
   "source": [
    "experiences=[]\n",
    "experience_tags=driver.find_elements_by_xpath(\"//li[@class='fleft grey-text br2 placeHolderLi experience']/span[1]\")"
   ]
  },
  {
   "cell_type": "code",
   "execution_count": 332,
   "metadata": {},
   "outputs": [
    {
     "data": {
      "text/plain": [
       "['3-5 Yrs',\n",
       " '1-6 Yrs',\n",
       " '5-10 Yrs',\n",
       " '9-12 Yrs',\n",
       " '4-5 Yrs',\n",
       " '3-8 Yrs',\n",
       " '4-9 Yrs',\n",
       " '0-2 Yrs',\n",
       " '3-7 Yrs',\n",
       " '5-10 Yrs']"
      ]
     },
     "execution_count": 332,
     "metadata": {},
     "output_type": "execute_result"
    }
   ],
   "source": [
    "for i in experience_tags:\n",
    "    exp=i.text\n",
    "    experiences.append(exp)\n",
    "experiences=experiences[0:10]\n",
    "experiences"
   ]
  },
  {
   "cell_type": "code",
   "execution_count": 333,
   "metadata": {},
   "outputs": [
    {
     "name": "stdout",
     "output_type": "stream",
     "text": [
      "10 10 10 10\n"
     ]
    }
   ],
   "source": [
    "print(len(titles),len(job_locations),len(companies),len(experiences),)"
   ]
  },
  {
   "cell_type": "code",
   "execution_count": 334,
   "metadata": {},
   "outputs": [
    {
     "data": {
      "text/html": [
       "<div>\n",
       "<style scoped>\n",
       "    .dataframe tbody tr th:only-of-type {\n",
       "        vertical-align: middle;\n",
       "    }\n",
       "\n",
       "    .dataframe tbody tr th {\n",
       "        vertical-align: top;\n",
       "    }\n",
       "\n",
       "    .dataframe thead th {\n",
       "        text-align: right;\n",
       "    }\n",
       "</style>\n",
       "<table border=\"1\" class=\"dataframe\">\n",
       "  <thead>\n",
       "    <tr style=\"text-align: right;\">\n",
       "      <th></th>\n",
       "      <th>Job Title</th>\n",
       "      <th>Job Location</th>\n",
       "      <th>Company Name</th>\n",
       "      <th>Experience Required</th>\n",
       "    </tr>\n",
       "  </thead>\n",
       "  <tbody>\n",
       "    <tr>\n",
       "      <th>0</th>\n",
       "      <td>Assistant/deputy Manager - Geo-spatial Data An...</td>\n",
       "      <td>Gurgaon/Gurugram, bangalore</td>\n",
       "      <td>Maruti Suzuki India</td>\n",
       "      <td>3-5 Yrs</td>\n",
       "    </tr>\n",
       "    <tr>\n",
       "      <th>1</th>\n",
       "      <td>Senior Data Analyst</td>\n",
       "      <td>Bangalore/Bengaluru</td>\n",
       "      <td>Rapido</td>\n",
       "      <td>1-6 Yrs</td>\n",
       "    </tr>\n",
       "    <tr>\n",
       "      <th>2</th>\n",
       "      <td>Senior Data Analyst</td>\n",
       "      <td>Not disclosed</td>\n",
       "      <td>SYREN TECHNOLOGIES PRIVATE LIMITED</td>\n",
       "      <td>5-10 Yrs</td>\n",
       "    </tr>\n",
       "    <tr>\n",
       "      <th>3</th>\n",
       "      <td>SENIOR ASSOCIATE ENGINEER - SCM - DATA ANALYST</td>\n",
       "      <td>Not disclosed</td>\n",
       "      <td>Collins Aerospace</td>\n",
       "      <td>9-12 Yrs</td>\n",
       "    </tr>\n",
       "    <tr>\n",
       "      <th>4</th>\n",
       "      <td>Senior Data Analyst</td>\n",
       "      <td>Not disclosed</td>\n",
       "      <td>Flipkart</td>\n",
       "      <td>4-5 Yrs</td>\n",
       "    </tr>\n",
       "    <tr>\n",
       "      <th>5</th>\n",
       "      <td>Data Analyst</td>\n",
       "      <td>Not disclosed</td>\n",
       "      <td>GlaxoSmithKline Pharmaceuticals Limited</td>\n",
       "      <td>3-8 Yrs</td>\n",
       "    </tr>\n",
       "    <tr>\n",
       "      <th>6</th>\n",
       "      <td>Data Analyst / Engineer</td>\n",
       "      <td>Not disclosed</td>\n",
       "      <td>Animaker India Private Limited</td>\n",
       "      <td>4-9 Yrs</td>\n",
       "    </tr>\n",
       "    <tr>\n",
       "      <th>7</th>\n",
       "      <td>Data Analyst (On Contract)</td>\n",
       "      <td>Not disclosed</td>\n",
       "      <td>Rupeek Fintech Pvt Ltd</td>\n",
       "      <td>0-2 Yrs</td>\n",
       "    </tr>\n",
       "    <tr>\n",
       "      <th>8</th>\n",
       "      <td>Senior Data Analyst</td>\n",
       "      <td>Not disclosed</td>\n",
       "      <td>Flipkart</td>\n",
       "      <td>3-7 Yrs</td>\n",
       "    </tr>\n",
       "    <tr>\n",
       "      <th>9</th>\n",
       "      <td>Senior Data Analyst for HANA Platform</td>\n",
       "      <td>Not disclosed</td>\n",
       "      <td>Intel</td>\n",
       "      <td>5-10 Yrs</td>\n",
       "    </tr>\n",
       "  </tbody>\n",
       "</table>\n",
       "</div>"
      ],
      "text/plain": [
       "                                           Job Title  \\\n",
       "0  Assistant/deputy Manager - Geo-spatial Data An...   \n",
       "1                                Senior Data Analyst   \n",
       "2                                Senior Data Analyst   \n",
       "3     SENIOR ASSOCIATE ENGINEER - SCM - DATA ANALYST   \n",
       "4                                Senior Data Analyst   \n",
       "5                                       Data Analyst   \n",
       "6                            Data Analyst / Engineer   \n",
       "7                         Data Analyst (On Contract)   \n",
       "8                                Senior Data Analyst   \n",
       "9              Senior Data Analyst for HANA Platform   \n",
       "\n",
       "                  Job Location                             Company Name  \\\n",
       "0  Gurgaon/Gurugram, bangalore                      Maruti Suzuki India   \n",
       "1          Bangalore/Bengaluru                                   Rapido   \n",
       "2                Not disclosed       SYREN TECHNOLOGIES PRIVATE LIMITED   \n",
       "3                Not disclosed                        Collins Aerospace   \n",
       "4                Not disclosed                                 Flipkart   \n",
       "5                Not disclosed  GlaxoSmithKline Pharmaceuticals Limited   \n",
       "6                Not disclosed           Animaker India Private Limited   \n",
       "7                Not disclosed                   Rupeek Fintech Pvt Ltd   \n",
       "8                Not disclosed                                 Flipkart   \n",
       "9                Not disclosed                                    Intel   \n",
       "\n",
       "  Experience Required  \n",
       "0             3-5 Yrs  \n",
       "1             1-6 Yrs  \n",
       "2            5-10 Yrs  \n",
       "3            9-12 Yrs  \n",
       "4             4-5 Yrs  \n",
       "5             3-8 Yrs  \n",
       "6             4-9 Yrs  \n",
       "7             0-2 Yrs  \n",
       "8             3-7 Yrs  \n",
       "9            5-10 Yrs  "
      ]
     },
     "execution_count": 334,
     "metadata": {},
     "output_type": "execute_result"
    }
   ],
   "source": [
    "df=pd.DataFrame({'Job Title':titles,'Job Location':job_locations,'Company Name':companies,'Experience Required':experiences})\n",
    "df"
   ]
  },
  {
   "cell_type": "markdown",
   "metadata": {},
   "source": [
    "# Question 2"
   ]
  },
  {
   "cell_type": "code",
   "execution_count": 339,
   "metadata": {},
   "outputs": [],
   "source": [
    "skill=driver.find_element_by_id('qsb-keyword-sugg')\n",
    "skill.send_keys('Data Scientist')\n",
    "location=driver.find_element_by_id('qsb-location-sugg')\n",
    "location.send_keys('Bangalore')\n",
    "search=driver.find_element_by_class_name('btn')\n",
    "search.click()"
   ]
  },
  {
   "cell_type": "code",
   "execution_count": 341,
   "metadata": {},
   "outputs": [],
   "source": [
    "titles=[]\n",
    "title_tags=driver.find_elements_by_xpath(\"//a[@class='title fw500 ellipsis']\")"
   ]
  },
  {
   "cell_type": "code",
   "execution_count": 342,
   "metadata": {},
   "outputs": [
    {
     "data": {
      "text/plain": [
       "['Senior Data Scientist',\n",
       " 'Sr. Associate Consultant Data Scientist',\n",
       " 'Data Scientist: Advanced Analytics',\n",
       " 'Cognitive Data Scientist',\n",
       " 'Senior Engineer - AIML - Data Scientist',\n",
       " 'Cognitive/AI Senior Data Scientist',\n",
       " 'Lead Programmer - Data Scientist',\n",
       " 'Senior Data Scientist',\n",
       " 'Lead/Senior Data Scientist (NLP)',\n",
       " 'Data Scientist']"
      ]
     },
     "execution_count": 342,
     "metadata": {},
     "output_type": "execute_result"
    }
   ],
   "source": [
    "for i in title_tags:\n",
    "    title=i.text\n",
    "    titles.append(title)\n",
    "titles=titles[0:10]\n",
    "titles"
   ]
  },
  {
   "cell_type": "code",
   "execution_count": 344,
   "metadata": {},
   "outputs": [],
   "source": [
    "companies=[]\n",
    "companies_tag=driver.find_elements_by_xpath(\"//a[@class='subTitle ellipsis fleft']\")"
   ]
  },
  {
   "cell_type": "code",
   "execution_count": 345,
   "metadata": {},
   "outputs": [
    {
     "data": {
      "text/plain": [
       "['Visa',\n",
       " 'Eli Lilly and Company',\n",
       " 'IBM India Pvt. Limited',\n",
       " 'IBM India Pvt. Limited',\n",
       " 'Unisys',\n",
       " 'IBM India Pvt. Limited',\n",
       " 'GlaxoSmithKline Pharmaceuticals Limited',\n",
       " 'Juniper Networks',\n",
       " 'Samya.AI A FRACTAL Entity',\n",
       " 'Tata Unistore']"
      ]
     },
     "execution_count": 345,
     "metadata": {},
     "output_type": "execute_result"
    }
   ],
   "source": [
    "for i in companies_tag:\n",
    "    company=i.text\n",
    "    companies.append(company)\n",
    "companies=companies[0:10]\n",
    "companies"
   ]
  },
  {
   "cell_type": "code",
   "execution_count": 346,
   "metadata": {},
   "outputs": [],
   "source": [
    "job_locations=[]\n",
    "job_locations_tags=driver.find_elements_by_xpath(\"//span[@class='ellipsis fleft fs12 lh16 ']\")"
   ]
  },
  {
   "cell_type": "code",
   "execution_count": 347,
   "metadata": {},
   "outputs": [
    {
     "data": {
      "text/plain": [
       "['Bangalore/Bengaluru',\n",
       " 'Bangalore/Bengaluru',\n",
       " 'Bangalore/Bengaluru',\n",
       " 'Bangalore/Bengaluru',\n",
       " 'Bangalore/Bengaluru',\n",
       " 'Bengaluru/Bangalore',\n",
       " 'Bangalore/Bengaluru',\n",
       " 'Bangalore/Bengaluru',\n",
       " 'Not disclosed',\n",
       " 'Not disclosed']"
      ]
     },
     "execution_count": 347,
     "metadata": {},
     "output_type": "execute_result"
    }
   ],
   "source": [
    "for i in job_locations_tags:\n",
    "    location=i.text\n",
    "    job_locations.append(location)\n",
    "job_locations=job_locations[2:30:3]\n",
    "job_locations"
   ]
  },
  {
   "cell_type": "code",
   "execution_count": 348,
   "metadata": {},
   "outputs": [],
   "source": [
    "experiences=[]\n",
    "experience_tags=driver.find_elements_by_xpath(\"//li[@class='fleft grey-text br2 placeHolderLi experience']/span[1]\")"
   ]
  },
  {
   "cell_type": "code",
   "execution_count": 349,
   "metadata": {},
   "outputs": [
    {
     "data": {
      "text/plain": [
       "['4-9 Yrs',\n",
       " '3-5 Yrs',\n",
       " '5-10 Yrs',\n",
       " '3-7 Yrs',\n",
       " '4-9 Yrs',\n",
       " '4-8 Yrs',\n",
       " '3-8 Yrs',\n",
       " '11-15 Yrs',\n",
       " '3-8 Yrs',\n",
       " '3-7 Yrs']"
      ]
     },
     "execution_count": 349,
     "metadata": {},
     "output_type": "execute_result"
    }
   ],
   "source": [
    "for i in experience_tags:\n",
    "    exp=i.text\n",
    "    experiences.append(exp)\n",
    "experiences=experiences[0:10]\n",
    "experiences"
   ]
  },
  {
   "cell_type": "code",
   "execution_count": 350,
   "metadata": {},
   "outputs": [
    {
     "name": "stdout",
     "output_type": "stream",
     "text": [
      "10 10 10 10\n"
     ]
    }
   ],
   "source": [
    "print(len(titles),len(job_locations),len(companies),len(experiences),)"
   ]
  },
  {
   "cell_type": "code",
   "execution_count": 351,
   "metadata": {},
   "outputs": [
    {
     "data": {
      "text/html": [
       "<div>\n",
       "<style scoped>\n",
       "    .dataframe tbody tr th:only-of-type {\n",
       "        vertical-align: middle;\n",
       "    }\n",
       "\n",
       "    .dataframe tbody tr th {\n",
       "        vertical-align: top;\n",
       "    }\n",
       "\n",
       "    .dataframe thead th {\n",
       "        text-align: right;\n",
       "    }\n",
       "</style>\n",
       "<table border=\"1\" class=\"dataframe\">\n",
       "  <thead>\n",
       "    <tr style=\"text-align: right;\">\n",
       "      <th></th>\n",
       "      <th>Job Title</th>\n",
       "      <th>Job Location</th>\n",
       "      <th>Company Name</th>\n",
       "      <th>Experience Required</th>\n",
       "    </tr>\n",
       "  </thead>\n",
       "  <tbody>\n",
       "    <tr>\n",
       "      <th>0</th>\n",
       "      <td>Senior Data Scientist</td>\n",
       "      <td>Bangalore/Bengaluru</td>\n",
       "      <td>Visa</td>\n",
       "      <td>4-9 Yrs</td>\n",
       "    </tr>\n",
       "    <tr>\n",
       "      <th>1</th>\n",
       "      <td>Sr. Associate Consultant Data Scientist</td>\n",
       "      <td>Bangalore/Bengaluru</td>\n",
       "      <td>Eli Lilly and Company</td>\n",
       "      <td>3-5 Yrs</td>\n",
       "    </tr>\n",
       "    <tr>\n",
       "      <th>2</th>\n",
       "      <td>Data Scientist: Advanced Analytics</td>\n",
       "      <td>Bangalore/Bengaluru</td>\n",
       "      <td>IBM India Pvt. Limited</td>\n",
       "      <td>5-10 Yrs</td>\n",
       "    </tr>\n",
       "    <tr>\n",
       "      <th>3</th>\n",
       "      <td>Cognitive Data Scientist</td>\n",
       "      <td>Bangalore/Bengaluru</td>\n",
       "      <td>IBM India Pvt. Limited</td>\n",
       "      <td>3-7 Yrs</td>\n",
       "    </tr>\n",
       "    <tr>\n",
       "      <th>4</th>\n",
       "      <td>Senior Engineer - AIML - Data Scientist</td>\n",
       "      <td>Bangalore/Bengaluru</td>\n",
       "      <td>Unisys</td>\n",
       "      <td>4-9 Yrs</td>\n",
       "    </tr>\n",
       "    <tr>\n",
       "      <th>5</th>\n",
       "      <td>Cognitive/AI Senior Data Scientist</td>\n",
       "      <td>Bengaluru/Bangalore</td>\n",
       "      <td>IBM India Pvt. Limited</td>\n",
       "      <td>4-8 Yrs</td>\n",
       "    </tr>\n",
       "    <tr>\n",
       "      <th>6</th>\n",
       "      <td>Lead Programmer - Data Scientist</td>\n",
       "      <td>Bangalore/Bengaluru</td>\n",
       "      <td>GlaxoSmithKline Pharmaceuticals Limited</td>\n",
       "      <td>3-8 Yrs</td>\n",
       "    </tr>\n",
       "    <tr>\n",
       "      <th>7</th>\n",
       "      <td>Senior Data Scientist</td>\n",
       "      <td>Bangalore/Bengaluru</td>\n",
       "      <td>Juniper Networks</td>\n",
       "      <td>11-15 Yrs</td>\n",
       "    </tr>\n",
       "    <tr>\n",
       "      <th>8</th>\n",
       "      <td>Lead/Senior Data Scientist (NLP)</td>\n",
       "      <td>Not disclosed</td>\n",
       "      <td>Samya.AI A FRACTAL Entity</td>\n",
       "      <td>3-8 Yrs</td>\n",
       "    </tr>\n",
       "    <tr>\n",
       "      <th>9</th>\n",
       "      <td>Data Scientist</td>\n",
       "      <td>Not disclosed</td>\n",
       "      <td>Tata Unistore</td>\n",
       "      <td>3-7 Yrs</td>\n",
       "    </tr>\n",
       "  </tbody>\n",
       "</table>\n",
       "</div>"
      ],
      "text/plain": [
       "                                 Job Title         Job Location  \\\n",
       "0                    Senior Data Scientist  Bangalore/Bengaluru   \n",
       "1  Sr. Associate Consultant Data Scientist  Bangalore/Bengaluru   \n",
       "2       Data Scientist: Advanced Analytics  Bangalore/Bengaluru   \n",
       "3                 Cognitive Data Scientist  Bangalore/Bengaluru   \n",
       "4  Senior Engineer - AIML - Data Scientist  Bangalore/Bengaluru   \n",
       "5       Cognitive/AI Senior Data Scientist  Bengaluru/Bangalore   \n",
       "6         Lead Programmer - Data Scientist  Bangalore/Bengaluru   \n",
       "7                    Senior Data Scientist  Bangalore/Bengaluru   \n",
       "8         Lead/Senior Data Scientist (NLP)        Not disclosed   \n",
       "9                           Data Scientist        Not disclosed   \n",
       "\n",
       "                              Company Name Experience Required  \n",
       "0                                     Visa             4-9 Yrs  \n",
       "1                    Eli Lilly and Company             3-5 Yrs  \n",
       "2                   IBM India Pvt. Limited            5-10 Yrs  \n",
       "3                   IBM India Pvt. Limited             3-7 Yrs  \n",
       "4                                   Unisys             4-9 Yrs  \n",
       "5                   IBM India Pvt. Limited             4-8 Yrs  \n",
       "6  GlaxoSmithKline Pharmaceuticals Limited             3-8 Yrs  \n",
       "7                         Juniper Networks           11-15 Yrs  \n",
       "8                Samya.AI A FRACTAL Entity             3-8 Yrs  \n",
       "9                            Tata Unistore             3-7 Yrs  "
      ]
     },
     "execution_count": 351,
     "metadata": {},
     "output_type": "execute_result"
    }
   ],
   "source": [
    "df=pd.DataFrame({'Job Title':titles,'Job Location':job_locations,'Company Name':companies,'Experience Required':experiences})\n",
    "df"
   ]
  },
  {
   "cell_type": "markdown",
   "metadata": {},
   "source": [
    "# Question 3"
   ]
  },
  {
   "cell_type": "code",
   "execution_count": 353,
   "metadata": {},
   "outputs": [],
   "source": [
    "driver.get('https://www.naukri.com/')"
   ]
  },
  {
   "cell_type": "code",
   "execution_count": null,
   "metadata": {},
   "outputs": [],
   "source": [
    "skill=driver.find_element_by_id('qsb-keyword-sugg')\n",
    "skill.send_keys('Data Scientist')\n",
    "search=driver.find_element_by_class_name('btn')\n",
    "search.click()"
   ]
  },
  {
   "cell_type": "code",
   "execution_count": null,
   "metadata": {},
   "outputs": [],
   "source": [
    "driver.find_element_by_xpath('//*[@id=\"root\"]/div[3]/div[2]/section[1]/div[2]/div[3]/div[2]/div[3]/label/i').click()\n",
    "driver.find_element_by_xpath('//*[@id=\"root\"]/div[3]/div[2]/section[1]/div[2]/div[4]/div[2]/div[2]/label/i').click()"
   ]
  },
  {
   "cell_type": "code",
   "execution_count": 360,
   "metadata": {},
   "outputs": [],
   "source": [
    "titles=[]\n",
    "title_tags=driver.find_elements_by_xpath(\"//a[@class='title fw500 ellipsis']\")"
   ]
  },
  {
   "cell_type": "code",
   "execution_count": 361,
   "metadata": {},
   "outputs": [
    {
     "data": {
      "text/plain": [
       "['Senior Data Scientist',\n",
       " 'Senior Data Scientist',\n",
       " 'Data Scientist: Advanced Analytics',\n",
       " 'Hiring For Data Scientist',\n",
       " 'AVP- Data Scientist',\n",
       " 'Data Scientist- Predictive Modelling',\n",
       " 'Data Scientist',\n",
       " 'Lead Data Scientist',\n",
       " 'Data Scientist | Senior Data Scientist',\n",
       " 'Sr Data Scientist']"
      ]
     },
     "execution_count": 361,
     "metadata": {},
     "output_type": "execute_result"
    }
   ],
   "source": [
    "for i in title_tags:\n",
    "    title=i.text\n",
    "    titles.append(title)\n",
    "titles=titles[0:10]\n",
    "titles"
   ]
  },
  {
   "cell_type": "code",
   "execution_count": 362,
   "metadata": {},
   "outputs": [],
   "source": [
    "companies=[]\n",
    "companies_tag=driver.find_elements_by_xpath(\"//a[@class='subTitle ellipsis fleft']\")"
   ]
  },
  {
   "cell_type": "code",
   "execution_count": 363,
   "metadata": {},
   "outputs": [
    {
     "data": {
      "text/plain": [
       "['Wipro',\n",
       " 'Wipro',\n",
       " 'IBM India Pvt. Limited',\n",
       " 'Tata Consultancy Services Ltd.',\n",
       " 'MyLoanCare Ventures Private Limited',\n",
       " 'Emmess technologies private Limited',\n",
       " 'LG Electronics India Pvt. Ltd.',\n",
       " 'TransOrg Solutions Services (P) Ltd.',\n",
       " '4bell Technology',\n",
       " 'Talent Integrators']"
      ]
     },
     "execution_count": 363,
     "metadata": {},
     "output_type": "execute_result"
    }
   ],
   "source": [
    "for i in companies_tag:\n",
    "    company=i.text\n",
    "    companies.append(company)\n",
    "companies=companies[0:10]\n",
    "companies"
   ]
  },
  {
   "cell_type": "code",
   "execution_count": 364,
   "metadata": {},
   "outputs": [],
   "source": [
    "job_locations=[]\n",
    "job_locations_tags=driver.find_elements_by_xpath(\"//li[@class='fleft grey-text br2 placeHolderLi location']\")"
   ]
  },
  {
   "cell_type": "code",
   "execution_count": 365,
   "metadata": {},
   "outputs": [
    {
     "data": {
      "text/plain": [
       "['Pune, Bangalore/Bengaluru, Delhi / NCR',\n",
       " 'Kolkata, Hyderabad/Secunderabad, Pune, Chennai, Bangalore/Bengaluru, Delhi / NCR, Mumbai (All Areas)\\n(WFH during Covid)',\n",
       " 'Delhi / NCR',\n",
       " 'Hyderabad/Secunderabad, Pune, Chennai, Bangalore/Bengaluru, Delhi / NCR, Mumbai (All Areas)\\n(WFH during Covid)',\n",
       " 'Gurgaon/Gurugram, Bangalore/Bengaluru',\n",
       " 'Noida, Gurgaon/Gurugram, Bangalore/Bengaluru, Delhi / NCR\\n(WFH during Covid)',\n",
       " 'Noida, New Delhi, Faridabad, Gurgaon/Gurugram, Delhi / NCR',\n",
       " 'Bangalore/Bengaluru, Delhi / NCR, Mumbai (All Areas)\\n(WFH during Covid)',\n",
       " 'Delhi / NCR, DelhiNCR',\n",
       " 'Gurgaon/Gurugram']"
      ]
     },
     "execution_count": 365,
     "metadata": {},
     "output_type": "execute_result"
    }
   ],
   "source": [
    "for i in job_locations_tags:\n",
    "    location=i.text\n",
    "    job_locations.append(location)\n",
    "job_locations=job_locations[0:10]\n",
    "job_locations"
   ]
  },
  {
   "cell_type": "code",
   "execution_count": 366,
   "metadata": {},
   "outputs": [],
   "source": [
    "experiences=[]\n",
    "experience_tags=driver.find_elements_by_xpath(\"//li[@class='fleft grey-text br2 placeHolderLi experience']/span[1]\")"
   ]
  },
  {
   "cell_type": "code",
   "execution_count": 367,
   "metadata": {},
   "outputs": [
    {
     "data": {
      "text/plain": [
       "['4-9 Yrs',\n",
       " '5-10 Yrs',\n",
       " '5-10 Yrs',\n",
       " '4-9 Yrs',\n",
       " '8-11 Yrs',\n",
       " '3-8 Yrs',\n",
       " '0-2 Yrs',\n",
       " '4-9 Yrs',\n",
       " '6-11 Yrs',\n",
       " '8-12 Yrs']"
      ]
     },
     "execution_count": 367,
     "metadata": {},
     "output_type": "execute_result"
    }
   ],
   "source": [
    "for i in experience_tags:\n",
    "    exp=i.text\n",
    "    experiences.append(exp)\n",
    "experiences=experiences[0:10]\n",
    "experiences"
   ]
  },
  {
   "cell_type": "code",
   "execution_count": 368,
   "metadata": {},
   "outputs": [
    {
     "data": {
      "text/html": [
       "<div>\n",
       "<style scoped>\n",
       "    .dataframe tbody tr th:only-of-type {\n",
       "        vertical-align: middle;\n",
       "    }\n",
       "\n",
       "    .dataframe tbody tr th {\n",
       "        vertical-align: top;\n",
       "    }\n",
       "\n",
       "    .dataframe thead th {\n",
       "        text-align: right;\n",
       "    }\n",
       "</style>\n",
       "<table border=\"1\" class=\"dataframe\">\n",
       "  <thead>\n",
       "    <tr style=\"text-align: right;\">\n",
       "      <th></th>\n",
       "      <th>Title</th>\n",
       "      <th>Job Location</th>\n",
       "      <th>Experience</th>\n",
       "    </tr>\n",
       "  </thead>\n",
       "  <tbody>\n",
       "    <tr>\n",
       "      <th>0</th>\n",
       "      <td>Senior Data Scientist</td>\n",
       "      <td>Pune, Bangalore/Bengaluru, Delhi / NCR</td>\n",
       "      <td>4-9 Yrs</td>\n",
       "    </tr>\n",
       "    <tr>\n",
       "      <th>1</th>\n",
       "      <td>Senior Data Scientist</td>\n",
       "      <td>Kolkata, Hyderabad/Secunderabad, Pune, Chennai...</td>\n",
       "      <td>5-10 Yrs</td>\n",
       "    </tr>\n",
       "    <tr>\n",
       "      <th>2</th>\n",
       "      <td>Data Scientist: Advanced Analytics</td>\n",
       "      <td>Delhi / NCR</td>\n",
       "      <td>5-10 Yrs</td>\n",
       "    </tr>\n",
       "    <tr>\n",
       "      <th>3</th>\n",
       "      <td>Hiring For Data Scientist</td>\n",
       "      <td>Hyderabad/Secunderabad, Pune, Chennai, Bangalo...</td>\n",
       "      <td>4-9 Yrs</td>\n",
       "    </tr>\n",
       "    <tr>\n",
       "      <th>4</th>\n",
       "      <td>AVP- Data Scientist</td>\n",
       "      <td>Gurgaon/Gurugram, Bangalore/Bengaluru</td>\n",
       "      <td>8-11 Yrs</td>\n",
       "    </tr>\n",
       "    <tr>\n",
       "      <th>5</th>\n",
       "      <td>Data Scientist- Predictive Modelling</td>\n",
       "      <td>Noida, Gurgaon/Gurugram, Bangalore/Bengaluru, ...</td>\n",
       "      <td>3-8 Yrs</td>\n",
       "    </tr>\n",
       "    <tr>\n",
       "      <th>6</th>\n",
       "      <td>Data Scientist</td>\n",
       "      <td>Noida, New Delhi, Faridabad, Gurgaon/Gurugram,...</td>\n",
       "      <td>0-2 Yrs</td>\n",
       "    </tr>\n",
       "    <tr>\n",
       "      <th>7</th>\n",
       "      <td>Lead Data Scientist</td>\n",
       "      <td>Bangalore/Bengaluru, Delhi / NCR, Mumbai (All ...</td>\n",
       "      <td>4-9 Yrs</td>\n",
       "    </tr>\n",
       "    <tr>\n",
       "      <th>8</th>\n",
       "      <td>Data Scientist | Senior Data Scientist</td>\n",
       "      <td>Delhi / NCR, DelhiNCR</td>\n",
       "      <td>6-11 Yrs</td>\n",
       "    </tr>\n",
       "    <tr>\n",
       "      <th>9</th>\n",
       "      <td>Sr Data Scientist</td>\n",
       "      <td>Gurgaon/Gurugram</td>\n",
       "      <td>8-12 Yrs</td>\n",
       "    </tr>\n",
       "  </tbody>\n",
       "</table>\n",
       "</div>"
      ],
      "text/plain": [
       "                                    Title  \\\n",
       "0                   Senior Data Scientist   \n",
       "1                   Senior Data Scientist   \n",
       "2      Data Scientist: Advanced Analytics   \n",
       "3               Hiring For Data Scientist   \n",
       "4                     AVP- Data Scientist   \n",
       "5    Data Scientist- Predictive Modelling   \n",
       "6                          Data Scientist   \n",
       "7                     Lead Data Scientist   \n",
       "8  Data Scientist | Senior Data Scientist   \n",
       "9                       Sr Data Scientist   \n",
       "\n",
       "                                        Job Location Experience  \n",
       "0             Pune, Bangalore/Bengaluru, Delhi / NCR    4-9 Yrs  \n",
       "1  Kolkata, Hyderabad/Secunderabad, Pune, Chennai...   5-10 Yrs  \n",
       "2                                        Delhi / NCR   5-10 Yrs  \n",
       "3  Hyderabad/Secunderabad, Pune, Chennai, Bangalo...    4-9 Yrs  \n",
       "4              Gurgaon/Gurugram, Bangalore/Bengaluru   8-11 Yrs  \n",
       "5  Noida, Gurgaon/Gurugram, Bangalore/Bengaluru, ...    3-8 Yrs  \n",
       "6  Noida, New Delhi, Faridabad, Gurgaon/Gurugram,...    0-2 Yrs  \n",
       "7  Bangalore/Bengaluru, Delhi / NCR, Mumbai (All ...    4-9 Yrs  \n",
       "8                              Delhi / NCR, DelhiNCR   6-11 Yrs  \n",
       "9                                   Gurgaon/Gurugram   8-12 Yrs  "
      ]
     },
     "execution_count": 368,
     "metadata": {},
     "output_type": "execute_result"
    }
   ],
   "source": [
    "df = pd.DataFrame({'Title':titles,'Job Location': job_locations,'Experience':experiences})\n",
    "df"
   ]
  },
  {
   "cell_type": "markdown",
   "metadata": {},
   "source": [
    "# Question 4"
   ]
  },
  {
   "cell_type": "code",
   "execution_count": 369,
   "metadata": {},
   "outputs": [],
   "source": [
    "driver = webdriver.Chrome(r\"C:/Users/RAJIT/Downloads/chromedriver_win32/chromedriver.exe\")"
   ]
  },
  {
   "cell_type": "code",
   "execution_count": 370,
   "metadata": {},
   "outputs": [],
   "source": [
    "driver.get('https://www.flipkart.com/')"
   ]
  },
  {
   "cell_type": "code",
   "execution_count": 371,
   "metadata": {},
   "outputs": [],
   "source": [
    "driver.find_element_by_xpath('/html/body/div[2]/div/div/button').click()"
   ]
  },
  {
   "cell_type": "code",
   "execution_count": 372,
   "metadata": {},
   "outputs": [],
   "source": [
    "search=driver.find_element_by_xpath(\"//input[@class='_3704LK']\")\n",
    "search.send_keys('sunglasses')\n",
    "search.find_element_by_xpath(\"//button[@class='L0Z3Pu']\").click()"
   ]
  },
  {
   "cell_type": "code",
   "execution_count": 374,
   "metadata": {},
   "outputs": [],
   "source": [
    "brand_tag=driver.find_elements_by_class_name('_2WkVRV')"
   ]
  },
  {
   "cell_type": "code",
   "execution_count": 375,
   "metadata": {},
   "outputs": [
    {
     "data": {
      "text/plain": [
       "['VINCENT CHASE',\n",
       " 'Fravy',\n",
       " 'SRPM',\n",
       " 'PIRASO',\n",
       " 'Elligator',\n",
       " 'PIRASO',\n",
       " 'New Specs',\n",
       " 'VINCENT CHASE',\n",
       " 'kingsunglasses',\n",
       " 'Fastrack',\n",
       " 'kingsunglasses',\n",
       " 'VINCENT CHASE',\n",
       " 'ROZZETTA CRAFT',\n",
       " 'ROYAL SON',\n",
       " 'SUNBEE',\n",
       " 'ROYAL SON',\n",
       " 'SHAAH COLLECTIONS',\n",
       " 'PIRASO',\n",
       " 'kingsunglasses',\n",
       " 'VINCENT CHASE',\n",
       " 'ROZZETTA CRAFT',\n",
       " 'PHENOMENAL',\n",
       " 'PIRASO',\n",
       " 'ROYAL SON',\n",
       " 'Fastrack',\n",
       " 'PHENOMENAL',\n",
       " 'PIRASO',\n",
       " 'VINCENT CHASE',\n",
       " 'Rich Club',\n",
       " 'kingsunglasses',\n",
       " 'PHENOMENAL',\n",
       " 'Fravy',\n",
       " 'PIRASO',\n",
       " 'Fastrack',\n",
       " 'Singco India',\n",
       " 'Anemone',\n",
       " 'hipe',\n",
       " 'ROZZETTA CRAFT',\n",
       " 'kingsunglasses',\n",
       " 'VINCENT CHASE']"
      ]
     },
     "execution_count": 375,
     "metadata": {},
     "output_type": "execute_result"
    }
   ],
   "source": [
    "brands=[]\n",
    "for i in brand_tag:\n",
    "    brand=i.text\n",
    "    brands.append(brand)\n",
    "brands"
   ]
  },
  {
   "cell_type": "code",
   "execution_count": 377,
   "metadata": {},
   "outputs": [],
   "source": [
    "prices=[]\n",
    "price_tag=driver.find_elements_by_class_name('_30jeq3')"
   ]
  },
  {
   "cell_type": "code",
   "execution_count": 378,
   "metadata": {},
   "outputs": [
    {
     "data": {
      "text/plain": [
       "['₹999',\n",
       " '₹244',\n",
       " '₹188',\n",
       " '₹200',\n",
       " '₹248',\n",
       " '₹187',\n",
       " '₹259',\n",
       " '₹1,415',\n",
       " '₹189',\n",
       " '₹759',\n",
       " '₹274',\n",
       " '₹999',\n",
       " '₹499',\n",
       " '₹449',\n",
       " '₹271',\n",
       " '₹759',\n",
       " '₹181',\n",
       " '₹189',\n",
       " '₹187',\n",
       " '₹999',\n",
       " '₹399',\n",
       " '₹311',\n",
       " '₹187',\n",
       " '₹759',\n",
       " '₹694',\n",
       " '₹329',\n",
       " '₹187',\n",
       " '₹999',\n",
       " '₹175',\n",
       " '₹259',\n",
       " '₹209',\n",
       " '₹285',\n",
       " '₹164',\n",
       " '₹619',\n",
       " '₹194',\n",
       " '₹499',\n",
       " '₹287',\n",
       " '₹360',\n",
       " '₹299',\n",
       " '₹999',\n",
       " '₹759',\n",
       " '₹449',\n",
       " '₹329',\n",
       " '₹499',\n",
       " '₹285']"
      ]
     },
     "execution_count": 378,
     "metadata": {},
     "output_type": "execute_result"
    }
   ],
   "source": [
    "for i in price_tag:\n",
    "    price=i.text\n",
    "    prices.append(price)\n",
    "prices"
   ]
  },
  {
   "cell_type": "code",
   "execution_count": 379,
   "metadata": {},
   "outputs": [],
   "source": [
    "driver.find_element_by_class_name('_1LKTO3').click()"
   ]
  },
  {
   "cell_type": "code",
   "execution_count": 380,
   "metadata": {},
   "outputs": [],
   "source": [
    "brand_tag_1=driver.find_elements_by_class_name('_2WkVRV')"
   ]
  },
  {
   "cell_type": "code",
   "execution_count": 381,
   "metadata": {},
   "outputs": [
    {
     "data": {
      "text/plain": [
       "['VINCENT CHASE',\n",
       " 'Fravy',\n",
       " 'SRPM',\n",
       " 'PIRASO',\n",
       " 'Elligator',\n",
       " 'PIRASO',\n",
       " 'New Specs',\n",
       " 'VINCENT CHASE',\n",
       " 'kingsunglasses',\n",
       " 'Fastrack',\n",
       " 'kingsunglasses',\n",
       " 'VINCENT CHASE',\n",
       " 'ROZZETTA CRAFT',\n",
       " 'ROYAL SON',\n",
       " 'SUNBEE',\n",
       " 'ROYAL SON',\n",
       " 'SHAAH COLLECTIONS',\n",
       " 'PIRASO',\n",
       " 'kingsunglasses',\n",
       " 'VINCENT CHASE',\n",
       " 'ROZZETTA CRAFT',\n",
       " 'PHENOMENAL',\n",
       " 'PIRASO',\n",
       " 'ROYAL SON',\n",
       " 'Fastrack',\n",
       " 'PHENOMENAL',\n",
       " 'PIRASO',\n",
       " 'VINCENT CHASE',\n",
       " 'Rich Club',\n",
       " 'kingsunglasses',\n",
       " 'PHENOMENAL',\n",
       " 'Fravy',\n",
       " 'PIRASO',\n",
       " 'Fastrack',\n",
       " 'Singco India',\n",
       " 'Anemone',\n",
       " 'hipe',\n",
       " 'ROZZETTA CRAFT',\n",
       " 'kingsunglasses',\n",
       " 'VINCENT CHASE',\n",
       " 'ROZZETTA CRAFT',\n",
       " 'Rich Club',\n",
       " 'PHENOMENAL',\n",
       " 'ROZZETTA CRAFT',\n",
       " 'Fastrack',\n",
       " 'kingsunglasses',\n",
       " 'Lee Topper',\n",
       " 'ROZZETTA CRAFT',\n",
       " 'Singco India',\n",
       " 'kingsunglasses',\n",
       " 'Lee Topper',\n",
       " 'VINCENT CHASE',\n",
       " 'Elligator',\n",
       " 'agera',\n",
       " 'ROZZETTA CRAFT',\n",
       " 'VINCENT CHASE',\n",
       " 'IDEE',\n",
       " 'PHENOMENAL',\n",
       " 'Rich Club',\n",
       " 'ROYAL SON',\n",
       " 'IDEE',\n",
       " 'Fastrack',\n",
       " 'hipe',\n",
       " 'CRYSTAL CART',\n",
       " 'ROYAL SON',\n",
       " 'ROZZETTA CRAFT',\n",
       " 'AISLIN',\n",
       " 'Rich Club',\n",
       " 'SUNBEE',\n",
       " 'kingsunglasses',\n",
       " 'Elligator',\n",
       " 'VINCENT CHASE',\n",
       " 'WROGN',\n",
       " 'Singco India',\n",
       " 'Rich Club',\n",
       " 'VINCENT CHASE',\n",
       " 'Rich Club',\n",
       " 'PHENOMENAL',\n",
       " 'SRPM',\n",
       " 'VINCENT CHASE']"
      ]
     },
     "execution_count": 381,
     "metadata": {},
     "output_type": "execute_result"
    }
   ],
   "source": [
    "for i in brand_tag_1:\n",
    "    brand_1=i.text\n",
    "    brands.append(brand_1)\n",
    "brands"
   ]
  },
  {
   "cell_type": "code",
   "execution_count": 383,
   "metadata": {},
   "outputs": [],
   "source": [
    "price_tag_1=driver.find_elements_by_class_name('_30jeq3')"
   ]
  },
  {
   "cell_type": "code",
   "execution_count": 384,
   "metadata": {},
   "outputs": [
    {
     "data": {
      "text/plain": [
       "['₹999',\n",
       " '₹244',\n",
       " '₹188',\n",
       " '₹200',\n",
       " '₹248',\n",
       " '₹187',\n",
       " '₹259',\n",
       " '₹1,415',\n",
       " '₹189',\n",
       " '₹759',\n",
       " '₹274',\n",
       " '₹999',\n",
       " '₹499',\n",
       " '₹449',\n",
       " '₹271',\n",
       " '₹759',\n",
       " '₹181',\n",
       " '₹189',\n",
       " '₹187',\n",
       " '₹999',\n",
       " '₹399',\n",
       " '₹311',\n",
       " '₹187',\n",
       " '₹759',\n",
       " '₹694',\n",
       " '₹329',\n",
       " '₹187',\n",
       " '₹999',\n",
       " '₹175',\n",
       " '₹259',\n",
       " '₹209',\n",
       " '₹285',\n",
       " '₹164',\n",
       " '₹619',\n",
       " '₹194',\n",
       " '₹499',\n",
       " '₹287',\n",
       " '₹360',\n",
       " '₹299',\n",
       " '₹999',\n",
       " '₹759',\n",
       " '₹449',\n",
       " '₹329',\n",
       " '₹499',\n",
       " '₹285',\n",
       " '₹349',\n",
       " '₹175',\n",
       " '₹299',\n",
       " '₹449',\n",
       " '₹719',\n",
       " '₹211',\n",
       " '₹276',\n",
       " '₹499',\n",
       " '₹229',\n",
       " '₹299',\n",
       " '₹375',\n",
       " '₹999',\n",
       " '₹239',\n",
       " '₹196',\n",
       " '₹449',\n",
       " '₹999',\n",
       " '₹1,139',\n",
       " '₹311',\n",
       " '₹383',\n",
       " '₹799',\n",
       " '₹1,049',\n",
       " '₹769',\n",
       " '₹209',\n",
       " '₹397',\n",
       " '₹449',\n",
       " '₹396',\n",
       " '₹885',\n",
       " '₹392',\n",
       " '₹258',\n",
       " '₹279',\n",
       " '₹291',\n",
       " '₹1,415',\n",
       " '₹769',\n",
       " '₹226',\n",
       " '₹284',\n",
       " '₹1,415',\n",
       " '₹245',\n",
       " '₹329',\n",
       " '₹220',\n",
       " '₹1,179',\n",
       " '₹759',\n",
       " '₹449',\n",
       " '₹329',\n",
       " '₹499',\n",
       " '₹285']"
      ]
     },
     "execution_count": 384,
     "metadata": {},
     "output_type": "execute_result"
    }
   ],
   "source": [
    "for i in price_tag_1:\n",
    "    price1=i.text\n",
    "    prices.append(price1)\n",
    "prices"
   ]
  },
  {
   "cell_type": "code",
   "execution_count": 385,
   "metadata": {},
   "outputs": [],
   "source": [
    "driver.find_element_by_class_name('_1LKTO3').click()"
   ]
  },
  {
   "cell_type": "code",
   "execution_count": 387,
   "metadata": {},
   "outputs": [],
   "source": [
    "brand_tag_2=driver.find_elements_by_class_name('_2WkVRV')"
   ]
  },
  {
   "cell_type": "code",
   "execution_count": 388,
   "metadata": {},
   "outputs": [
    {
     "data": {
      "text/plain": [
       "['VINCENT CHASE',\n",
       " 'Fravy',\n",
       " 'SRPM',\n",
       " 'PIRASO',\n",
       " 'Elligator',\n",
       " 'PIRASO',\n",
       " 'New Specs',\n",
       " 'VINCENT CHASE',\n",
       " 'kingsunglasses',\n",
       " 'Fastrack',\n",
       " 'kingsunglasses',\n",
       " 'VINCENT CHASE',\n",
       " 'ROZZETTA CRAFT',\n",
       " 'ROYAL SON',\n",
       " 'SUNBEE',\n",
       " 'ROYAL SON',\n",
       " 'SHAAH COLLECTIONS',\n",
       " 'PIRASO',\n",
       " 'kingsunglasses',\n",
       " 'ROYAL SON']"
      ]
     },
     "execution_count": 388,
     "metadata": {},
     "output_type": "execute_result"
    }
   ],
   "source": [
    "brands1=[]\n",
    "for i in brand_tag_2:\n",
    "    brand_2=i.text\n",
    "    brands1.append(brand_2)\n",
    "brands1=brands1[0:20]\n",
    "brands1"
   ]
  },
  {
   "cell_type": "code",
   "execution_count": 389,
   "metadata": {},
   "outputs": [],
   "source": [
    "price_tag_2=driver.find_elements_by_class_name('_30jeq3')"
   ]
  },
  {
   "cell_type": "code",
   "execution_count": 390,
   "metadata": {},
   "outputs": [
    {
     "data": {
      "text/plain": [
       "['₹999',\n",
       " '₹244',\n",
       " '₹188',\n",
       " '₹200',\n",
       " '₹248',\n",
       " '₹187',\n",
       " '₹259',\n",
       " '₹1,415',\n",
       " '₹189',\n",
       " '₹759']"
      ]
     },
     "execution_count": 390,
     "metadata": {},
     "output_type": "execute_result"
    }
   ],
   "source": [
    "prices2=[]\n",
    "for i in price_tag_2:\n",
    "    price2=i.text\n",
    "    prices2.append(price2)\n",
    "prices2=prices[0:10]\n",
    "prices2"
   ]
  },
  {
   "cell_type": "code",
   "execution_count": 391,
   "metadata": {},
   "outputs": [
    {
     "data": {
      "text/plain": [
       "['₹999',\n",
       " '₹244',\n",
       " '₹188',\n",
       " '₹200',\n",
       " '₹248',\n",
       " '₹187',\n",
       " '₹259',\n",
       " '₹1,415',\n",
       " '₹189',\n",
       " '₹759',\n",
       " '₹274',\n",
       " '₹999',\n",
       " '₹499',\n",
       " '₹449',\n",
       " '₹271',\n",
       " '₹759',\n",
       " '₹181',\n",
       " '₹189',\n",
       " '₹187',\n",
       " '₹999',\n",
       " '₹399',\n",
       " '₹311',\n",
       " '₹187',\n",
       " '₹759',\n",
       " '₹694',\n",
       " '₹329',\n",
       " '₹187',\n",
       " '₹999',\n",
       " '₹175',\n",
       " '₹259',\n",
       " '₹209',\n",
       " '₹285',\n",
       " '₹164',\n",
       " '₹619',\n",
       " '₹194',\n",
       " '₹499',\n",
       " '₹287',\n",
       " '₹360',\n",
       " '₹299',\n",
       " '₹999',\n",
       " '₹759',\n",
       " '₹449',\n",
       " '₹329',\n",
       " '₹499',\n",
       " '₹285',\n",
       " '₹349',\n",
       " '₹175',\n",
       " '₹299',\n",
       " '₹449',\n",
       " '₹719',\n",
       " '₹211',\n",
       " '₹276',\n",
       " '₹499',\n",
       " '₹229',\n",
       " '₹299',\n",
       " '₹375',\n",
       " '₹999',\n",
       " '₹239',\n",
       " '₹196',\n",
       " '₹449',\n",
       " '₹999',\n",
       " '₹1,139',\n",
       " '₹311',\n",
       " '₹383',\n",
       " '₹799',\n",
       " '₹1,049',\n",
       " '₹769',\n",
       " '₹209',\n",
       " '₹397',\n",
       " '₹449',\n",
       " '₹396',\n",
       " '₹885',\n",
       " '₹392',\n",
       " '₹258',\n",
       " '₹279',\n",
       " '₹291',\n",
       " '₹1,415',\n",
       " '₹769',\n",
       " '₹226',\n",
       " '₹284',\n",
       " '₹1,415',\n",
       " '₹245',\n",
       " '₹329',\n",
       " '₹220',\n",
       " '₹1,179',\n",
       " '₹759',\n",
       " '₹449',\n",
       " '₹329',\n",
       " '₹499',\n",
       " '₹285',\n",
       " '₹999',\n",
       " '₹244',\n",
       " '₹188',\n",
       " '₹200',\n",
       " '₹248',\n",
       " '₹187',\n",
       " '₹259',\n",
       " '₹1,415',\n",
       " '₹189',\n",
       " '₹759']"
      ]
     },
     "execution_count": 391,
     "metadata": {},
     "output_type": "execute_result"
    }
   ],
   "source": [
    "prices+=prices2\n",
    "prices"
   ]
  },
  {
   "cell_type": "code",
   "execution_count": 392,
   "metadata": {},
   "outputs": [
    {
     "data": {
      "text/plain": [
       "['VINCENT CHASE',\n",
       " 'Fravy',\n",
       " 'SRPM',\n",
       " 'PIRASO',\n",
       " 'Elligator',\n",
       " 'PIRASO',\n",
       " 'New Specs',\n",
       " 'VINCENT CHASE',\n",
       " 'kingsunglasses',\n",
       " 'Fastrack',\n",
       " 'kingsunglasses',\n",
       " 'VINCENT CHASE',\n",
       " 'ROZZETTA CRAFT',\n",
       " 'ROYAL SON',\n",
       " 'SUNBEE',\n",
       " 'ROYAL SON',\n",
       " 'SHAAH COLLECTIONS',\n",
       " 'PIRASO',\n",
       " 'kingsunglasses',\n",
       " 'VINCENT CHASE',\n",
       " 'ROZZETTA CRAFT',\n",
       " 'PHENOMENAL',\n",
       " 'PIRASO',\n",
       " 'ROYAL SON',\n",
       " 'Fastrack',\n",
       " 'PHENOMENAL',\n",
       " 'PIRASO',\n",
       " 'VINCENT CHASE',\n",
       " 'Rich Club',\n",
       " 'kingsunglasses',\n",
       " 'PHENOMENAL',\n",
       " 'Fravy',\n",
       " 'PIRASO',\n",
       " 'Fastrack',\n",
       " 'Singco India',\n",
       " 'Anemone',\n",
       " 'hipe',\n",
       " 'ROZZETTA CRAFT',\n",
       " 'kingsunglasses',\n",
       " 'VINCENT CHASE',\n",
       " 'ROZZETTA CRAFT',\n",
       " 'Rich Club',\n",
       " 'PHENOMENAL',\n",
       " 'ROZZETTA CRAFT',\n",
       " 'Fastrack',\n",
       " 'kingsunglasses',\n",
       " 'Lee Topper',\n",
       " 'ROZZETTA CRAFT',\n",
       " 'Singco India',\n",
       " 'kingsunglasses',\n",
       " 'Lee Topper',\n",
       " 'VINCENT CHASE',\n",
       " 'Elligator',\n",
       " 'agera',\n",
       " 'ROZZETTA CRAFT',\n",
       " 'VINCENT CHASE',\n",
       " 'IDEE',\n",
       " 'PHENOMENAL',\n",
       " 'Rich Club',\n",
       " 'ROYAL SON',\n",
       " 'IDEE',\n",
       " 'Fastrack',\n",
       " 'hipe',\n",
       " 'CRYSTAL CART',\n",
       " 'ROYAL SON',\n",
       " 'ROZZETTA CRAFT',\n",
       " 'AISLIN',\n",
       " 'Rich Club',\n",
       " 'SUNBEE',\n",
       " 'kingsunglasses',\n",
       " 'Elligator',\n",
       " 'VINCENT CHASE',\n",
       " 'WROGN',\n",
       " 'Singco India',\n",
       " 'Rich Club',\n",
       " 'VINCENT CHASE',\n",
       " 'Rich Club',\n",
       " 'PHENOMENAL',\n",
       " 'SRPM',\n",
       " 'VINCENT CHASE',\n",
       " 'VINCENT CHASE',\n",
       " 'Fravy',\n",
       " 'SRPM',\n",
       " 'PIRASO',\n",
       " 'Elligator',\n",
       " 'PIRASO',\n",
       " 'New Specs',\n",
       " 'VINCENT CHASE',\n",
       " 'kingsunglasses',\n",
       " 'Fastrack',\n",
       " 'kingsunglasses',\n",
       " 'VINCENT CHASE',\n",
       " 'ROZZETTA CRAFT',\n",
       " 'ROYAL SON',\n",
       " 'SUNBEE',\n",
       " 'ROYAL SON',\n",
       " 'SHAAH COLLECTIONS',\n",
       " 'PIRASO',\n",
       " 'kingsunglasses',\n",
       " 'ROYAL SON']"
      ]
     },
     "execution_count": 392,
     "metadata": {},
     "output_type": "execute_result"
    }
   ],
   "source": [
    "brands +=brands1\n",
    "brands"
   ]
  },
  {
   "cell_type": "code",
   "execution_count": 393,
   "metadata": {},
   "outputs": [
    {
     "data": {
      "text/plain": [
       "100"
      ]
     },
     "execution_count": 393,
     "metadata": {},
     "output_type": "execute_result"
    }
   ],
   "source": [
    "len(brands)"
   ]
  },
  {
   "cell_type": "code",
   "execution_count": 394,
   "metadata": {},
   "outputs": [
    {
     "data": {
      "text/plain": [
       "100"
      ]
     },
     "execution_count": 394,
     "metadata": {},
     "output_type": "execute_result"
    }
   ],
   "source": [
    "len(prices)"
   ]
  },
  {
   "cell_type": "code",
   "execution_count": 395,
   "metadata": {},
   "outputs": [
    {
     "data": {
      "text/html": [
       "<div>\n",
       "<style scoped>\n",
       "    .dataframe tbody tr th:only-of-type {\n",
       "        vertical-align: middle;\n",
       "    }\n",
       "\n",
       "    .dataframe tbody tr th {\n",
       "        vertical-align: top;\n",
       "    }\n",
       "\n",
       "    .dataframe thead th {\n",
       "        text-align: right;\n",
       "    }\n",
       "</style>\n",
       "<table border=\"1\" class=\"dataframe\">\n",
       "  <thead>\n",
       "    <tr style=\"text-align: right;\">\n",
       "      <th></th>\n",
       "      <th>Sunglass Brand</th>\n",
       "      <th>Price</th>\n",
       "    </tr>\n",
       "  </thead>\n",
       "  <tbody>\n",
       "    <tr>\n",
       "      <th>0</th>\n",
       "      <td>VINCENT CHASE</td>\n",
       "      <td>₹999</td>\n",
       "    </tr>\n",
       "    <tr>\n",
       "      <th>1</th>\n",
       "      <td>Fravy</td>\n",
       "      <td>₹244</td>\n",
       "    </tr>\n",
       "    <tr>\n",
       "      <th>2</th>\n",
       "      <td>SRPM</td>\n",
       "      <td>₹188</td>\n",
       "    </tr>\n",
       "    <tr>\n",
       "      <th>3</th>\n",
       "      <td>PIRASO</td>\n",
       "      <td>₹200</td>\n",
       "    </tr>\n",
       "    <tr>\n",
       "      <th>4</th>\n",
       "      <td>Elligator</td>\n",
       "      <td>₹248</td>\n",
       "    </tr>\n",
       "    <tr>\n",
       "      <th>...</th>\n",
       "      <td>...</td>\n",
       "      <td>...</td>\n",
       "    </tr>\n",
       "    <tr>\n",
       "      <th>95</th>\n",
       "      <td>ROYAL SON</td>\n",
       "      <td>₹187</td>\n",
       "    </tr>\n",
       "    <tr>\n",
       "      <th>96</th>\n",
       "      <td>SHAAH COLLECTIONS</td>\n",
       "      <td>₹259</td>\n",
       "    </tr>\n",
       "    <tr>\n",
       "      <th>97</th>\n",
       "      <td>PIRASO</td>\n",
       "      <td>₹1,415</td>\n",
       "    </tr>\n",
       "    <tr>\n",
       "      <th>98</th>\n",
       "      <td>kingsunglasses</td>\n",
       "      <td>₹189</td>\n",
       "    </tr>\n",
       "    <tr>\n",
       "      <th>99</th>\n",
       "      <td>ROYAL SON</td>\n",
       "      <td>₹759</td>\n",
       "    </tr>\n",
       "  </tbody>\n",
       "</table>\n",
       "<p>100 rows × 2 columns</p>\n",
       "</div>"
      ],
      "text/plain": [
       "       Sunglass Brand   Price\n",
       "0       VINCENT CHASE    ₹999\n",
       "1               Fravy    ₹244\n",
       "2                SRPM    ₹188\n",
       "3              PIRASO    ₹200\n",
       "4           Elligator    ₹248\n",
       "..                ...     ...\n",
       "95          ROYAL SON    ₹187\n",
       "96  SHAAH COLLECTIONS    ₹259\n",
       "97             PIRASO  ₹1,415\n",
       "98     kingsunglasses    ₹189\n",
       "99          ROYAL SON    ₹759\n",
       "\n",
       "[100 rows x 2 columns]"
      ]
     },
     "execution_count": 395,
     "metadata": {},
     "output_type": "execute_result"
    }
   ],
   "source": [
    "df = pd.DataFrame({'Sunglass Brand':brands,'Price':prices})\n",
    "df"
   ]
  },
  {
   "cell_type": "markdown",
   "metadata": {},
   "source": [
    "# Question 5"
   ]
  },
  {
   "cell_type": "code",
   "execution_count": 829,
   "metadata": {},
   "outputs": [],
   "source": [
    "driver = webdriver.Chrome(r\"C:/Users/RAJIT/Downloads/chromedriver_win32/chromedriver.exe\")"
   ]
  },
  {
   "cell_type": "code",
   "execution_count": 830,
   "metadata": {},
   "outputs": [],
   "source": [
    "driver.get(\"https://www.flipkart.com/apple-iphone-11-black-64-gb-includes- earpods-poweradapter/p/itm0f37c2240b217?pid=MOBFKCTSVZAXUHGR&lid=LSTMOBFKC\\\n",
    "TSVZAXUHGREPBFGI&marketplace\")"
   ]
  },
  {
   "cell_type": "code",
   "execution_count": 831,
   "metadata": {},
   "outputs": [],
   "source": [
    "driver.find_element_by_xpath(\"//div[@class='_3UAT2v _16PBlm']\").click() #view all ratings"
   ]
  },
  {
   "cell_type": "code",
   "execution_count": 832,
   "metadata": {},
   "outputs": [],
   "source": [
    "ratings=[]\n",
    "rating_tag = driver.find_elements_by_xpath(\"//div[@class='_3LWZlK _1BLPMq']\")\n",
    "for i in rating_tag:\n",
    "    rating=i.text\n",
    "    ratings.append(rating)"
   ]
  },
  {
   "cell_type": "code",
   "execution_count": 833,
   "metadata": {},
   "outputs": [],
   "source": [
    "titles=[]\n",
    "title_tag=driver.find_elements_by_xpath(\"//p[@class='_2-N8zT']\")\n",
    "for i in title_tag:\n",
    "    title=i.text\n",
    "    titles.append(title)"
   ]
  },
  {
   "cell_type": "code",
   "execution_count": 834,
   "metadata": {},
   "outputs": [],
   "source": [
    "descriptions=[]\n",
    "description_tag = driver.find_elements_by_xpath(\"//div[@class='t-ZTKy']\")\n",
    "for i in description_tag:\n",
    "    desc=i.text\n",
    "    descriptions.append(desc)"
   ]
  },
  {
   "cell_type": "code",
   "execution_count": 835,
   "metadata": {},
   "outputs": [],
   "source": [
    "driver.find_element_by_xpath('//*[@id=\"container\"]/div/div[3]/div/div/div[2]/div[13]/div/div/nav/a[3]').click() #page2"
   ]
  },
  {
   "cell_type": "code",
   "execution_count": 836,
   "metadata": {},
   "outputs": [],
   "source": [
    "rating_tag = driver.find_elements_by_xpath(\"//div[@class='_3LWZlK _1BLPMq']\")\n",
    "for i in rating_tag:\n",
    "    rating=i.text\n",
    "    ratings.append(rating)"
   ]
  },
  {
   "cell_type": "code",
   "execution_count": 837,
   "metadata": {},
   "outputs": [],
   "source": [
    "title_tag=driver.find_elements_by_xpath(\"//p[@class='_2-N8zT']\")\n",
    "for i in title_tag:\n",
    "    title=i.text\n",
    "    titles.append(title)"
   ]
  },
  {
   "cell_type": "code",
   "execution_count": 838,
   "metadata": {},
   "outputs": [],
   "source": [
    "description_tag = driver.find_elements_by_xpath(\"//div[@class='t-ZTKy']\")\n",
    "for i in description_tag:\n",
    "    desc=i.text\n",
    "    descriptions.append(desc)"
   ]
  },
  {
   "cell_type": "code",
   "execution_count": 839,
   "metadata": {},
   "outputs": [],
   "source": [
    "driver.find_element_by_xpath('//*[@id=\"container\"]/div/div[3]/div/div/div[2]/div[13]/div/div/nav/a[4]').click() #page3"
   ]
  },
  {
   "cell_type": "code",
   "execution_count": 840,
   "metadata": {},
   "outputs": [],
   "source": [
    "rating_tag = driver.find_elements_by_xpath(\"//div[@class='_3LWZlK _1BLPMq']\")\n",
    "for i in rating_tag:\n",
    "    rating=i.text\n",
    "    ratings.append(rating)"
   ]
  },
  {
   "cell_type": "code",
   "execution_count": 841,
   "metadata": {},
   "outputs": [],
   "source": [
    "title_tag=driver.find_elements_by_xpath(\"//p[@class='_2-N8zT']\")\n",
    "for i in title_tag:\n",
    "    title=i.text\n",
    "    titles.append(title)"
   ]
  },
  {
   "cell_type": "code",
   "execution_count": 842,
   "metadata": {},
   "outputs": [],
   "source": [
    "description_tag = driver.find_elements_by_xpath(\"//div[@class='t-ZTKy']\")\n",
    "for i in description_tag:\n",
    "    desc=i.text\n",
    "    descriptions.append(desc)"
   ]
  },
  {
   "cell_type": "code",
   "execution_count": 843,
   "metadata": {},
   "outputs": [],
   "source": [
    "driver.find_element_by_xpath('//*[@id=\"container\"]/div/div[3]/div/div/div[2]/div[13]/div/div/nav/a[5]').click() #page4"
   ]
  },
  {
   "cell_type": "code",
   "execution_count": 844,
   "metadata": {},
   "outputs": [],
   "source": [
    "rating_tag = driver.find_elements_by_xpath(\"//div[@class='_3LWZlK _1BLPMq']\")\n",
    "for i in rating_tag:\n",
    "    rating=i.text\n",
    "    ratings.append(rating)"
   ]
  },
  {
   "cell_type": "code",
   "execution_count": 845,
   "metadata": {},
   "outputs": [],
   "source": [
    "title_tag=driver.find_elements_by_xpath(\"//p[@class='_2-N8zT']\")\n",
    "for i in title_tag:\n",
    "    title=i.text\n",
    "    titles.append(title)"
   ]
  },
  {
   "cell_type": "code",
   "execution_count": 846,
   "metadata": {},
   "outputs": [],
   "source": [
    "description_tag = driver.find_elements_by_xpath(\"//div[@class='t-ZTKy']\")\n",
    "for i in description_tag:\n",
    "    desc=i.text\n",
    "    descriptions.append(desc)"
   ]
  },
  {
   "cell_type": "code",
   "execution_count": 847,
   "metadata": {},
   "outputs": [],
   "source": [
    "driver.find_element_by_xpath('//*[@id=\"container\"]/div/div[3]/div/div/div[2]/div[13]/div/div/nav/a[6]').click() #page5"
   ]
  },
  {
   "cell_type": "code",
   "execution_count": 848,
   "metadata": {},
   "outputs": [],
   "source": [
    "rating_tag = driver.find_elements_by_xpath(\"//div[@class='_3LWZlK _1BLPMq']\")\n",
    "for i in rating_tag:\n",
    "    rating=i.text\n",
    "    ratings.append(rating)"
   ]
  },
  {
   "cell_type": "code",
   "execution_count": 849,
   "metadata": {},
   "outputs": [],
   "source": [
    "title_tag=driver.find_elements_by_xpath(\"//p[@class='_2-N8zT']\")\n",
    "for i in title_tag:\n",
    "    title=i.text\n",
    "    titles.append(title)"
   ]
  },
  {
   "cell_type": "code",
   "execution_count": 850,
   "metadata": {},
   "outputs": [],
   "source": [
    "description_tag = driver.find_elements_by_xpath(\"//div[@class='t-ZTKy']\")\n",
    "for i in description_tag:\n",
    "    desc=i.text\n",
    "    descriptions.append(desc)"
   ]
  },
  {
   "cell_type": "code",
   "execution_count": 851,
   "metadata": {},
   "outputs": [],
   "source": [
    "driver.find_element_by_xpath('//*[@id=\"container\"]/div/div[3]/div/div/div[2]/div[13]/div/div/nav/a[7]').click() #page6"
   ]
  },
  {
   "cell_type": "code",
   "execution_count": 852,
   "metadata": {},
   "outputs": [],
   "source": [
    "rating_tag = driver.find_elements_by_xpath(\"//div[@class='_3LWZlK _1BLPMq']\")\n",
    "for i in rating_tag:\n",
    "    rating=i.text\n",
    "    ratings.append(rating)"
   ]
  },
  {
   "cell_type": "code",
   "execution_count": 853,
   "metadata": {},
   "outputs": [],
   "source": [
    "title_tag=driver.find_elements_by_xpath(\"//p[@class='_2-N8zT']\")\n",
    "for i in title_tag:\n",
    "    title=i.text\n",
    "    titles.append(title)"
   ]
  },
  {
   "cell_type": "code",
   "execution_count": 854,
   "metadata": {},
   "outputs": [],
   "source": [
    "description_tag = driver.find_elements_by_xpath(\"//div[@class='t-ZTKy']\")\n",
    "for i in description_tag:\n",
    "    desc=i.text\n",
    "    descriptions.append(desc)"
   ]
  },
  {
   "cell_type": "code",
   "execution_count": 855,
   "metadata": {},
   "outputs": [],
   "source": [
    "driver.find_element_by_xpath('//*[@id=\"container\"]/div/div[3]/div/div/div[2]/div[13]/div/div/nav/a[8]').click() #page7"
   ]
  },
  {
   "cell_type": "code",
   "execution_count": 856,
   "metadata": {},
   "outputs": [],
   "source": [
    "rating_tag = driver.find_elements_by_xpath(\"//div[@class='_3LWZlK _1BLPMq']\")\n",
    "for i in rating_tag:\n",
    "    rating=i.text\n",
    "    ratings.append(rating)"
   ]
  },
  {
   "cell_type": "code",
   "execution_count": 857,
   "metadata": {},
   "outputs": [],
   "source": [
    "title_tag=driver.find_elements_by_xpath(\"//p[@class='_2-N8zT']\")\n",
    "for i in title_tag:\n",
    "    title=i.text\n",
    "    titles.append(title)"
   ]
  },
  {
   "cell_type": "code",
   "execution_count": 858,
   "metadata": {},
   "outputs": [],
   "source": [
    "description_tag = driver.find_elements_by_xpath(\"//div[@class='t-ZTKy']\")\n",
    "for i in description_tag:\n",
    "    desc=i.text\n",
    "    descriptions.append(desc)"
   ]
  },
  {
   "cell_type": "code",
   "execution_count": 859,
   "metadata": {},
   "outputs": [],
   "source": [
    "driver.find_element_by_xpath('//*[@id=\"container\"]/div/div[3]/div/div/div[2]/div[13]/div/div/nav/a[7]').click() #page8"
   ]
  },
  {
   "cell_type": "code",
   "execution_count": 860,
   "metadata": {},
   "outputs": [],
   "source": [
    "rating_tag = driver.find_elements_by_xpath(\"//div[@class='_3LWZlK _1BLPMq']\")\n",
    "for i in rating_tag:\n",
    "    rating=i.text\n",
    "    ratings.append(rating)"
   ]
  },
  {
   "cell_type": "code",
   "execution_count": 861,
   "metadata": {},
   "outputs": [],
   "source": [
    "title_tag=driver.find_elements_by_xpath(\"//p[@class='_2-N8zT']\")\n",
    "for i in title_tag:\n",
    "    title=i.text\n",
    "    titles.append(title)"
   ]
  },
  {
   "cell_type": "code",
   "execution_count": 862,
   "metadata": {},
   "outputs": [],
   "source": [
    "description_tag = driver.find_elements_by_xpath(\"//div[@class='t-ZTKy']\")\n",
    "for i in description_tag:\n",
    "    desc=i.text\n",
    "    descriptions.append(desc)"
   ]
  },
  {
   "cell_type": "code",
   "execution_count": 863,
   "metadata": {},
   "outputs": [],
   "source": [
    "driver.find_element_by_xpath('//*[@id=\"container\"]/div/div[3]/div/div/div[2]/div[13]/div/div/nav/a[7]').click() #page9"
   ]
  },
  {
   "cell_type": "code",
   "execution_count": 864,
   "metadata": {},
   "outputs": [],
   "source": [
    "rating_tag = driver.find_elements_by_xpath(\"//div[@class='_3LWZlK _1BLPMq']\")\n",
    "for i in rating_tag:\n",
    "    rating=i.text\n",
    "    ratings.append(rating)"
   ]
  },
  {
   "cell_type": "code",
   "execution_count": 865,
   "metadata": {},
   "outputs": [],
   "source": [
    "title_tag=driver.find_elements_by_xpath(\"//p[@class='_2-N8zT']\")\n",
    "for i in title_tag:\n",
    "    title=i.text\n",
    "    titles.append(title)"
   ]
  },
  {
   "cell_type": "code",
   "execution_count": 866,
   "metadata": {},
   "outputs": [],
   "source": [
    "description_tag = driver.find_elements_by_xpath(\"//div[@class='t-ZTKy']\")\n",
    "for i in description_tag:\n",
    "    desc=i.text\n",
    "    descriptions.append(desc)"
   ]
  },
  {
   "cell_type": "code",
   "execution_count": 867,
   "metadata": {},
   "outputs": [],
   "source": [
    "driver.find_element_by_xpath('//*[@id=\"container\"]/div/div[3]/div/div/div[2]/div[13]/div/div/nav/a[7]').click() #page10"
   ]
  },
  {
   "cell_type": "code",
   "execution_count": 872,
   "metadata": {},
   "outputs": [],
   "source": [
    "rating_tag = driver.find_elements_by_xpath(\"//div[@class='_3LWZlK _1BLPMq']\")\n",
    "for i in rating_tag:\n",
    "    rating=i.text\n",
    "    ratings.append(rating[0:2])"
   ]
  },
  {
   "cell_type": "code",
   "execution_count": 869,
   "metadata": {},
   "outputs": [],
   "source": [
    "title_tag=driver.find_elements_by_xpath(\"//p[@class='_2-N8zT']\")\n",
    "for i in title_tag:\n",
    "    title=i.text\n",
    "    titles.append(title)"
   ]
  },
  {
   "cell_type": "code",
   "execution_count": 870,
   "metadata": {},
   "outputs": [],
   "source": [
    "description_tag = driver.find_elements_by_xpath(\"//div[@class='t-ZTKy']\")\n",
    "for i in description_tag:\n",
    "    desc=i.text\n",
    "    descriptions.append(desc)"
   ]
  },
  {
   "cell_type": "code",
   "execution_count": 876,
   "metadata": {},
   "outputs": [
    {
     "data": {
      "text/html": [
       "<div>\n",
       "<style scoped>\n",
       "    .dataframe tbody tr th:only-of-type {\n",
       "        vertical-align: middle;\n",
       "    }\n",
       "\n",
       "    .dataframe tbody tr th {\n",
       "        vertical-align: top;\n",
       "    }\n",
       "\n",
       "    .dataframe thead th {\n",
       "        text-align: right;\n",
       "    }\n",
       "</style>\n",
       "<table border=\"1\" class=\"dataframe\">\n",
       "  <thead>\n",
       "    <tr style=\"text-align: right;\">\n",
       "      <th></th>\n",
       "      <th>Title</th>\n",
       "      <th>Description</th>\n",
       "      <th>Rating</th>\n",
       "    </tr>\n",
       "  </thead>\n",
       "  <tbody>\n",
       "    <tr>\n",
       "      <th>0</th>\n",
       "      <td>Brilliant</td>\n",
       "      <td>The Best Phone for the Money\\n\\nThe iPhone 11 ...</td>\n",
       "      <td>5</td>\n",
       "    </tr>\n",
       "    <tr>\n",
       "      <th>1</th>\n",
       "      <td>Simply awesome</td>\n",
       "      <td>Really satisfied with the Product I received.....</td>\n",
       "      <td>5</td>\n",
       "    </tr>\n",
       "    <tr>\n",
       "      <th>2</th>\n",
       "      <td>Best in the market!</td>\n",
       "      <td>Great iPhone very snappy experience as apple k...</td>\n",
       "      <td>5</td>\n",
       "    </tr>\n",
       "    <tr>\n",
       "      <th>3</th>\n",
       "      <td>Perfect product!</td>\n",
       "      <td>Amazing phone with great cameras and better ba...</td>\n",
       "      <td>5</td>\n",
       "    </tr>\n",
       "    <tr>\n",
       "      <th>4</th>\n",
       "      <td>Worth every penny</td>\n",
       "      <td>Previously I was using one plus 3t it was a gr...</td>\n",
       "      <td>5</td>\n",
       "    </tr>\n",
       "    <tr>\n",
       "      <th>...</th>\n",
       "      <td>...</td>\n",
       "      <td>...</td>\n",
       "      <td>...</td>\n",
       "    </tr>\n",
       "    <tr>\n",
       "      <th>95</th>\n",
       "      <td>Mind-blowing purchase</td>\n",
       "      <td>Flipkart honoured on time delivery, I have use...</td>\n",
       "      <td>5</td>\n",
       "    </tr>\n",
       "    <tr>\n",
       "      <th>96</th>\n",
       "      <td>Good quality product</td>\n",
       "      <td>Awesome camera, smooth and fast UI, display is...</td>\n",
       "      <td>4</td>\n",
       "    </tr>\n",
       "    <tr>\n",
       "      <th>97</th>\n",
       "      <td>Fabulous!</td>\n",
       "      <td>Good product nice experience with Flipkart but...</td>\n",
       "      <td>5</td>\n",
       "    </tr>\n",
       "    <tr>\n",
       "      <th>98</th>\n",
       "      <td>Best in the market!</td>\n",
       "      <td>Don’t expect much from front camera… especiall...</td>\n",
       "      <td>5</td>\n",
       "    </tr>\n",
       "    <tr>\n",
       "      <th>99</th>\n",
       "      <td>Worth every penny</td>\n",
       "      <td>Here is the thing\\n\\nThe only reason why you s...</td>\n",
       "      <td>5</td>\n",
       "    </tr>\n",
       "  </tbody>\n",
       "</table>\n",
       "<p>100 rows × 3 columns</p>\n",
       "</div>"
      ],
      "text/plain": [
       "                    Title                                        Description  \\\n",
       "0               Brilliant  The Best Phone for the Money\\n\\nThe iPhone 11 ...   \n",
       "1          Simply awesome  Really satisfied with the Product I received.....   \n",
       "2     Best in the market!  Great iPhone very snappy experience as apple k...   \n",
       "3        Perfect product!  Amazing phone with great cameras and better ba...   \n",
       "4       Worth every penny  Previously I was using one plus 3t it was a gr...   \n",
       "..                    ...                                                ...   \n",
       "95  Mind-blowing purchase  Flipkart honoured on time delivery, I have use...   \n",
       "96   Good quality product  Awesome camera, smooth and fast UI, display is...   \n",
       "97              Fabulous!  Good product nice experience with Flipkart but...   \n",
       "98    Best in the market!  Don’t expect much from front camera… especiall...   \n",
       "99      Worth every penny  Here is the thing\\n\\nThe only reason why you s...   \n",
       "\n",
       "   Rating  \n",
       "0       5  \n",
       "1       5  \n",
       "2       5  \n",
       "3       5  \n",
       "4       5  \n",
       "..    ...  \n",
       "95      5  \n",
       "96      4  \n",
       "97      5  \n",
       "98      5  \n",
       "99      5  \n",
       "\n",
       "[100 rows x 3 columns]"
      ]
     },
     "execution_count": 876,
     "metadata": {},
     "output_type": "execute_result"
    }
   ],
   "source": [
    "df = pd.DataFrame({'Title':titles,'Description':descriptions,'Rating':ratings})\n",
    "df"
   ]
  },
  {
   "cell_type": "markdown",
   "metadata": {},
   "source": [
    "# Question 6"
   ]
  },
  {
   "cell_type": "code",
   "execution_count": 877,
   "metadata": {},
   "outputs": [],
   "source": [
    "driver = webdriver.Chrome(r\"C:/Users/RAJIT/Downloads/chromedriver_win32/chromedriver.exe\")"
   ]
  },
  {
   "cell_type": "code",
   "execution_count": 878,
   "metadata": {},
   "outputs": [],
   "source": [
    "driver.get('https://www.flipkart.com') "
   ]
  },
  {
   "cell_type": "code",
   "execution_count": 879,
   "metadata": {},
   "outputs": [],
   "source": [
    "driver.find_element_by_xpath('/html/body/div[2]/div/div/button').click()"
   ]
  },
  {
   "cell_type": "code",
   "execution_count": 880,
   "metadata": {},
   "outputs": [],
   "source": [
    "driver.find_element_by_xpath('//*[@id=\"container\"]/div/div[1]/div[1]/div[2]/div[2]/form/div/div/input').send_keys('sneakers')"
   ]
  },
  {
   "cell_type": "code",
   "execution_count": 881,
   "metadata": {},
   "outputs": [],
   "source": [
    "driver.find_element_by_xpath('//button[@class=\"L0Z3Pu\"]').click()"
   ]
  },
  {
   "cell_type": "code",
   "execution_count": 882,
   "metadata": {},
   "outputs": [],
   "source": [
    "brand_tag1=driver.find_elements_by_xpath('//div[@class=\"_2WkVRV\"]')"
   ]
  },
  {
   "cell_type": "code",
   "execution_count": 883,
   "metadata": {},
   "outputs": [
    {
     "data": {
      "text/plain": [
       "['BIRDE',\n",
       " 'BIRDE',\n",
       " 'RapidBox',\n",
       " 'Chevit',\n",
       " 'Numenzo',\n",
       " 'BIRDE',\n",
       " 'Magnolia',\n",
       " 'BIRDE',\n",
       " 'ganpati traders',\n",
       " 'Numenzo',\n",
       " 'SCATCHITE',\n",
       " 'BIRDE',\n",
       " 'Chevit',\n",
       " 'URBANBOX',\n",
       " 'Robbie jones',\n",
       " 'BIRDE',\n",
       " 'Clymb',\n",
       " 'HOTSTYLE',\n",
       " 'SPARX',\n",
       " 'NIKE',\n",
       " 'BRUTON',\n",
       " 'ASIAN',\n",
       " 'Kraasa',\n",
       " 'BIRDE',\n",
       " 'PUMA',\n",
       " 'Zsyto',\n",
       " 'Robbie jones',\n",
       " 'believe',\n",
       " 'ESSENCE',\n",
       " 'Chevit',\n",
       " 'zovim',\n",
       " 'tigonis',\n",
       " 'ESSENCE',\n",
       " 'RapidBox',\n",
       " 'believe',\n",
       " 'BIRDE',\n",
       " 'RODDICK SHOES',\n",
       " 'BRUTON',\n",
       " 'BIRDE',\n",
       " 'PUMA']"
      ]
     },
     "execution_count": 883,
     "metadata": {},
     "output_type": "execute_result"
    }
   ],
   "source": [
    "brands1=[]\n",
    "for i in brand_tag1:\n",
    "    brand1=i.text\n",
    "    brands1.append(brand1)\n",
    "brands1"
   ]
  },
  {
   "cell_type": "code",
   "execution_count": 884,
   "metadata": {},
   "outputs": [],
   "source": [
    "description_tag1=driver.find_elements_by_xpath('//a[@class=\"IRpwTa\"]')"
   ]
  },
  {
   "cell_type": "code",
   "execution_count": 885,
   "metadata": {},
   "outputs": [
    {
     "data": {
      "text/plain": [
       "['Trendy Combo Pack of 2 Casual Shoes Sneakers For Men',\n",
       " 'Casual Shoes Sneakers For Men',\n",
       " 'Super Stylish & Trendy Combo Pack of 02 Pairs Sneakers ...',\n",
       " 'White Sneaker For Men Sneakers For Men',\n",
       " 'Sports Running Shoes Sneakers For Men',\n",
       " 'Sneakers For Men',\n",
       " 'Combo Pack of 2 Casual Shoes Sneakers For Men',\n",
       " '411 Casual Sneakers For Men',\n",
       " 'Sneakers Sneakers For Men',\n",
       " 'Combo Pack of 2 Casual Shoes Sneakers For Men',\n",
       " 'Combo Pack of 4 Casual Sneakers With Sneakers For Men',\n",
       " 'Casual Sneakers Black Shoes For Men Sneakers For Men',\n",
       " 'Sneakers For Men',\n",
       " 'Sneakers For Men',\n",
       " 'SM-322 Sneakers For Men',\n",
       " 'Court Vapor Lite Hard Court Sneakers For Men',\n",
       " 'Modern & Trendy Collection Combo Pack of 02 Shoes for M...',\n",
       " 'Skypy-31 Walking Shoes,Training Shoes,Sneakers,Loafers,...',\n",
       " 'Shark-41 Sneakers For Men',\n",
       " 'Sneakers For Men',\n",
       " 'Lazy Knit Slip On Sneakers For Men',\n",
       " 'Sneakers For Men',\n",
       " 'Luxury Fashionable casual sneaker shoes and partywear s...',\n",
       " 'Speed Set of 5 Pairs Sneakers Outdoors Casuals for Men ...',\n",
       " 'men shoes jeans Sneakers For Men',\n",
       " 'Sneakers For Men',\n",
       " 'Sneakers For Men',\n",
       " 'Sneakers for men(black_6) Sneakers For Men',\n",
       " 'Combo Pack of 2 Casual Shoes Sneakers For Men',\n",
       " 'Fashion Outdoor Canvas Casual Light Weight Lace-up Even...',\n",
       " 'Combo Pack Of 4 Casual Sneakers For Men',\n",
       " 'Birde Trendy Casual Shoes Sneakers For Men',\n",
       " 'RBR X-Ray 2 Sneakers For Men']"
      ]
     },
     "execution_count": 885,
     "metadata": {},
     "output_type": "execute_result"
    }
   ],
   "source": [
    "descriptions1=[]\n",
    "for i in description_tag1:\n",
    "    description1=i.text\n",
    "    descriptions1.append(description1)\n",
    "descriptions1"
   ]
  },
  {
   "cell_type": "code",
   "execution_count": 886,
   "metadata": {},
   "outputs": [],
   "source": [
    "price_tag1=driver.find_elements_by_xpath(\"//div[@class='_30jeq3']\")"
   ]
  },
  {
   "cell_type": "code",
   "execution_count": 887,
   "metadata": {},
   "outputs": [
    {
     "data": {
      "text/plain": [
       "['₹474',\n",
       " '₹348',\n",
       " '₹680',\n",
       " '₹699',\n",
       " '₹479',\n",
       " '₹299',\n",
       " '₹398',\n",
       " '₹472',\n",
       " '₹145',\n",
       " '₹499',\n",
       " '₹398',\n",
       " '₹473',\n",
       " '₹665',\n",
       " '₹247',\n",
       " '₹451',\n",
       " '₹598',\n",
       " '₹649',\n",
       " '₹198',\n",
       " '₹849',\n",
       " '₹6,685',\n",
       " '₹527',\n",
       " '₹439',\n",
       " '₹499',\n",
       " '₹598',\n",
       " '₹1,382',\n",
       " '₹418',\n",
       " '₹499',\n",
       " '₹449',\n",
       " '₹539',\n",
       " '₹899',\n",
       " '₹498',\n",
       " '₹429',\n",
       " '₹539',\n",
       " '₹630',\n",
       " '₹449',\n",
       " '₹473',\n",
       " '₹499',\n",
       " '₹699',\n",
       " '₹299',\n",
       " '₹4,799']"
      ]
     },
     "execution_count": 887,
     "metadata": {},
     "output_type": "execute_result"
    }
   ],
   "source": [
    "prices1=[]\n",
    "for i in price_tag1:\n",
    "    price1=i.text\n",
    "    prices1.append(price1)\n",
    "prices1"
   ]
  },
  {
   "cell_type": "code",
   "execution_count": 888,
   "metadata": {},
   "outputs": [],
   "source": [
    "offer_tag1=driver.find_elements_by_xpath(\"//div[@class='_3Ay6Sb']\")"
   ]
  },
  {
   "cell_type": "code",
   "execution_count": 889,
   "metadata": {},
   "outputs": [
    {
     "data": {
      "text/plain": [
       "['68% off',\n",
       " '65% off',\n",
       " '31% off',\n",
       " '56% off',\n",
       " '63% off',\n",
       " '40% off',\n",
       " '60% off',\n",
       " '52% off',\n",
       " '70% off',\n",
       " '75% off',\n",
       " '60% off',\n",
       " '52% off',\n",
       " '66% off',\n",
       " '75% off',\n",
       " '54% off',\n",
       " '40% off',\n",
       " '56% off',\n",
       " '60% off',\n",
       " '15% off',\n",
       " '1% off',\n",
       " '78% off',\n",
       " '45% off',\n",
       " '50% off',\n",
       " '40% off',\n",
       " '53% off',\n",
       " '58% off',\n",
       " '50% off',\n",
       " '55% off',\n",
       " '46% off',\n",
       " '63% off',\n",
       " '50% off',\n",
       " '76% off',\n",
       " '46% off',\n",
       " '36% off',\n",
       " '55% off',\n",
       " '52% off',\n",
       " '50% off',\n",
       " '82% off',\n",
       " '40% off',\n",
       " '40% off']"
      ]
     },
     "execution_count": 889,
     "metadata": {},
     "output_type": "execute_result"
    }
   ],
   "source": [
    "offers1=[]\n",
    "for i in offer_tag1:\n",
    "    off1=i.text\n",
    "    offers1.append(off1)\n",
    "offers1"
   ]
  },
  {
   "cell_type": "code",
   "execution_count": 890,
   "metadata": {},
   "outputs": [],
   "source": [
    "driver.find_element_by_xpath(\"//a[@class='_1LKTO3']\").click()"
   ]
  },
  {
   "cell_type": "code",
   "execution_count": 891,
   "metadata": {},
   "outputs": [],
   "source": [
    "brand_tag2=driver.find_elements_by_xpath('//div[@class=\"_2WkVRV\"]')"
   ]
  },
  {
   "cell_type": "code",
   "execution_count": 892,
   "metadata": {},
   "outputs": [
    {
     "data": {
      "text/plain": [
       "['Chevit',\n",
       " 'Robbie jones',\n",
       " 'Trendmode',\n",
       " 'PEHANOSA',\n",
       " 'Robbie jones',\n",
       " 'TR',\n",
       " 'SPARX',\n",
       " 'Longwalk',\n",
       " 'RapidBox',\n",
       " 'Absolute comfort',\n",
       " 'REEBOK CLASSICS',\n",
       " 'NIKE',\n",
       " 'BRUTON',\n",
       " 'FEWROK',\n",
       " 'Ktiz',\n",
       " 'PUMA',\n",
       " 'bluemaker',\n",
       " 'Chevit',\n",
       " 'Elixir Man',\n",
       " 'NIKE',\n",
       " 'Trendmode',\n",
       " 'Brothers Gift',\n",
       " 'SPARX',\n",
       " 'PUMA',\n",
       " 'SPARX',\n",
       " 'Chevit',\n",
       " 'ASTEROID',\n",
       " \"Neeman's\",\n",
       " 'Zorth',\n",
       " 'ESSENCE',\n",
       " 'PUMA',\n",
       " 'STRANGER BROTHERS',\n",
       " 'flipy',\n",
       " 'Chevit',\n",
       " 'BRUTON',\n",
       " 'PUMA',\n",
       " 'HOC',\n",
       " 'SPARX',\n",
       " 'aadi',\n",
       " 'PUMA']"
      ]
     },
     "execution_count": 892,
     "metadata": {},
     "output_type": "execute_result"
    }
   ],
   "source": [
    "brands2=[]\n",
    "for i in brand_tag2:\n",
    "    brand2=i.text\n",
    "    brands2.append(brand2)\n",
    "brands2"
   ]
  },
  {
   "cell_type": "code",
   "execution_count": 893,
   "metadata": {},
   "outputs": [
    {
     "data": {
      "text/plain": [
       "['Perfect & Affordable Combo Pack of 02 Pairs Sneakers Ou...',\n",
       " 'Sneakers For Men',\n",
       " 'Sneakers For Men',\n",
       " 'Sneaker for men Sneakers For Men',\n",
       " 'Casual Sneakers White Shoes For Men Sneakers For Men',\n",
       " 'Sneakers For Men',\n",
       " 'Canvas Casual Partywear Outdoor Sneakers Shoes For Mens...',\n",
       " 'Stylish Premium Canvas Sneakers Sneakers For Men',\n",
       " 'Court Legacy Suede Sneakers For Men',\n",
       " 'Lattest Sneakers Shoe Sneakers For Men',\n",
       " 'Sneakers For Men',\n",
       " 'RS-Fast Buck Sneakers For Men',\n",
       " 'casual for men (blue 06) Sneakers For Men',\n",
       " 'Smart Casuals Canvas Shoes Combo pack of 2 Sneakers For...',\n",
       " 'Elixir Man Limited Edition Casual Shoes Sneakers For Me...',\n",
       " 'Court Vision Low Next Nature Sneakers For Men',\n",
       " 'Sneakers For Men',\n",
       " \"Brothers Luxury Fashionable Men's Casual Walking Runnin...\",\n",
       " 'SM-322 Sneakers For Men',\n",
       " 'Wired SlipOn Sneakers For Men',\n",
       " 'Men White Sneakers Sneakers For Men',\n",
       " 'Lightweight & Stylish Pack of 02 Pair Shoes for Men Cas...',\n",
       " \"Original Luxury Branded Fashionable Men's Casual Walkin...\",\n",
       " 'Sneakers For Men',\n",
       " 'Sneakers For Men',\n",
       " 'Lazy Knit Slip On Sneakers For Men',\n",
       " 'CASUAL Sneakers For Men',\n",
       " 'Perfect & Affordable Combo Pack of 02 Pairs Sneakers Ou...',\n",
       " 'CUBIC_1 Sneakers For Men',\n",
       " 'PUMA X 1DER KL RAHUL Sneakers For Men',\n",
       " 'Luxury Fashionable Breathable Casual Sneakers Shoes For...',\n",
       " 'SD-323 Sneakers For Men',\n",
       " 'Sneakers For Men',\n",
       " 'Puma Smash v2 Buck Sneakers For Men']"
      ]
     },
     "execution_count": 893,
     "metadata": {},
     "output_type": "execute_result"
    }
   ],
   "source": [
    "description_tag2=driver.find_elements_by_xpath('//a[@class=\"IRpwTa\"]')\n",
    "descriptions2=[]\n",
    "for i in description_tag2:\n",
    "    description2=i.text\n",
    "    descriptions2.append(description2)\n",
    "descriptions2"
   ]
  },
  {
   "cell_type": "code",
   "execution_count": 894,
   "metadata": {},
   "outputs": [
    {
     "data": {
      "text/plain": [
       "['₹599',\n",
       " '₹499',\n",
       " '₹240',\n",
       " '₹439',\n",
       " '₹474',\n",
       " '₹599',\n",
       " '₹799',\n",
       " '₹299',\n",
       " '₹640',\n",
       " '₹166',\n",
       " '₹2,089',\n",
       " '₹5,995',\n",
       " '₹299',\n",
       " '₹420',\n",
       " '₹499',\n",
       " '₹9,999',\n",
       " '₹499',\n",
       " '₹399',\n",
       " '₹599',\n",
       " '₹4,995',\n",
       " '₹249',\n",
       " '₹449',\n",
       " '₹849',\n",
       " '₹1,799',\n",
       " '₹679',\n",
       " '₹501',\n",
       " '₹499',\n",
       " '₹2,399',\n",
       " '₹539',\n",
       " '₹1,542',\n",
       " '₹469',\n",
       " '₹449',\n",
       " '₹599',\n",
       " '₹259',\n",
       " '₹2,843',\n",
       " '₹449',\n",
       " '₹679',\n",
       " '₹499',\n",
       " '₹2,121']"
      ]
     },
     "execution_count": 894,
     "metadata": {},
     "output_type": "execute_result"
    }
   ],
   "source": [
    "price_tag2=driver.find_elements_by_xpath(\"//div[@class='_30jeq3']\")\n",
    "prices2=[]\n",
    "for i in price_tag2:\n",
    "    price2=i.text\n",
    "    prices2.append(price2)\n",
    "prices2"
   ]
  },
  {
   "cell_type": "code",
   "execution_count": 895,
   "metadata": {},
   "outputs": [
    {
     "data": {
      "text/plain": [
       "['53% off',\n",
       " '50% off',\n",
       " '65% off',\n",
       " '56% off',\n",
       " '52% off',\n",
       " '70% off',\n",
       " '40% off',\n",
       " '35% off',\n",
       " '66% off',\n",
       " '45% off',\n",
       " '76% off',\n",
       " '57% off',\n",
       " '50% off',\n",
       " '50% off',\n",
       " '60% off',\n",
       " '81% off',\n",
       " '75% off',\n",
       " '77% off',\n",
       " '15% off',\n",
       " '40% off',\n",
       " '15% off',\n",
       " '66% off',\n",
       " '50% off',\n",
       " '20% off',\n",
       " '46% off',\n",
       " '48% off',\n",
       " '53% off',\n",
       " '71% off',\n",
       " '66% off',\n",
       " '80% off',\n",
       " '28% off',\n",
       " '77% off',\n",
       " '15% off',\n",
       " '75% off',\n",
       " '39% off']"
      ]
     },
     "execution_count": 895,
     "metadata": {},
     "output_type": "execute_result"
    }
   ],
   "source": [
    "offer_tag2=driver.find_elements_by_xpath(\"//div[@class='_3Ay6Sb']\")\n",
    "offers2=[]\n",
    "for i in offer_tag2:\n",
    "    off2=i.text\n",
    "    offers2.append(off2)\n",
    "offers2"
   ]
  },
  {
   "cell_type": "code",
   "execution_count": 896,
   "metadata": {},
   "outputs": [],
   "source": [
    "driver.find_element_by_xpath(\"//a[@class='_1LKTO3']\").click()"
   ]
  },
  {
   "cell_type": "code",
   "execution_count": 897,
   "metadata": {},
   "outputs": [
    {
     "data": {
      "text/plain": [
       "['BIRDE',\n",
       " 'BIRDE',\n",
       " 'RapidBox',\n",
       " 'Chevit',\n",
       " 'Numenzo',\n",
       " 'BIRDE',\n",
       " 'Magnolia',\n",
       " 'BIRDE',\n",
       " 'ganpati traders',\n",
       " 'Numenzo',\n",
       " 'SCATCHITE',\n",
       " 'PUMA',\n",
       " 'Chevit',\n",
       " 'URBANBOX',\n",
       " 'Robbie jones',\n",
       " 'BIRDE',\n",
       " 'Clymb',\n",
       " 'HOTSTYLE',\n",
       " 'SPARX',\n",
       " 'BIRDE']"
      ]
     },
     "execution_count": 897,
     "metadata": {},
     "output_type": "execute_result"
    }
   ],
   "source": [
    "brand_tag3=driver.find_elements_by_xpath('//div[@class=\"_2WkVRV\"]')\n",
    "brands3=[]\n",
    "for i in brand_tag3:\n",
    "    brand3=i.text\n",
    "    brands3.append(brand3)\n",
    "brands3=brands3[0:20]\n",
    "brands3"
   ]
  },
  {
   "cell_type": "code",
   "execution_count": 898,
   "metadata": {},
   "outputs": [
    {
     "data": {
      "text/plain": [
       "['Casual Shoes Sneakers For Men',\n",
       " 'Combo Pack of 2 Casual Shoes Sneakers For Men',\n",
       " 'Super Stylish & Trendy Combo Pack of 02 Pairs Sneakers ...',\n",
       " 'White Sneaker For Men Sneakers For Men',\n",
       " 'Sports Running Shoes Sneakers For Men',\n",
       " 'Sneakers For Men',\n",
       " 'Trendy Combo Pack of 2 Casual Shoes Sneakers For Men',\n",
       " '411 Casual Sneakers For Men',\n",
       " 'Sneakers Sneakers For Men',\n",
       " 'Puma Smash v2 SL one8 Sneakers For Men',\n",
       " 'Combo Pack of 4 Casual Sneakers With Sneakers For Men',\n",
       " 'Casual Sneakers Black Shoes For Men Sneakers For Men',\n",
       " 'Combo Pack of 2 Casual Shoes Sneakers For Men',\n",
       " 'Sneakers For Men',\n",
       " 'SM-322 Sneakers For Men',\n",
       " 'Sneakers For Men',\n",
       " 'Modern & Trendy Collection Combo Pack of 02 Shoes for M...',\n",
       " 'Skypy-31 Walking Shoes,Training Shoes,Sneakers,Loafers,...',\n",
       " 'Shark-41 Sneakers For Men',\n",
       " 'Sneakers For Men']"
      ]
     },
     "execution_count": 898,
     "metadata": {},
     "output_type": "execute_result"
    }
   ],
   "source": [
    "description_tag3=driver.find_elements_by_xpath('//a[@class=\"IRpwTa\"]')\n",
    "descriptions3=[]\n",
    "for i in description_tag3:\n",
    "    description3=i.text\n",
    "    descriptions3.append(description3)\n",
    "description3=descriptions3[0:20]\n",
    "description3"
   ]
  },
  {
   "cell_type": "code",
   "execution_count": 899,
   "metadata": {},
   "outputs": [
    {
     "data": {
      "text/plain": [
       "['₹348',\n",
       " '₹472',\n",
       " '₹680',\n",
       " '₹699',\n",
       " '₹479',\n",
       " '₹299',\n",
       " '₹398',\n",
       " '₹474',\n",
       " '₹145',\n",
       " '₹499',\n",
       " '₹398',\n",
       " '₹2,399',\n",
       " '₹665',\n",
       " '₹247',\n",
       " '₹451',\n",
       " '₹473',\n",
       " '₹649',\n",
       " '₹198',\n",
       " '₹849',\n",
       " '₹598']"
      ]
     },
     "execution_count": 899,
     "metadata": {},
     "output_type": "execute_result"
    }
   ],
   "source": [
    "price_tag3=driver.find_elements_by_xpath(\"//div[@class='_30jeq3']\")\n",
    "prices3=[]\n",
    "for i in price_tag3:\n",
    "    price3=i.text\n",
    "    prices3.append(price3)\n",
    "prices3=prices3[0:20]\n",
    "prices3"
   ]
  },
  {
   "cell_type": "code",
   "execution_count": 900,
   "metadata": {},
   "outputs": [
    {
     "data": {
      "text/plain": [
       "['65% off',\n",
       " '52% off',\n",
       " '31% off',\n",
       " '56% off',\n",
       " '63% off',\n",
       " '40% off',\n",
       " '60% off',\n",
       " '68% off',\n",
       " '70% off',\n",
       " '75% off',\n",
       " '60% off',\n",
       " '40% off',\n",
       " '66% off',\n",
       " '75% off',\n",
       " '54% off',\n",
       " '52% off',\n",
       " '56% off',\n",
       " '60% off',\n",
       " '15% off',\n",
       " '40% off']"
      ]
     },
     "execution_count": 900,
     "metadata": {},
     "output_type": "execute_result"
    }
   ],
   "source": [
    "offer_tag3=driver.find_elements_by_xpath(\"//div[@class='_3Ay6Sb']\")\n",
    "offers3=[]\n",
    "for i in offer_tag3:\n",
    "    off3=i.text\n",
    "    offers3.append(off3)\n",
    "offers3=offers3[0:20]\n",
    "offers3"
   ]
  },
  {
   "cell_type": "code",
   "execution_count": 901,
   "metadata": {},
   "outputs": [],
   "source": [
    "brands_all=[]\n",
    "descriptions=[]\n",
    "prices=[]\n",
    "offers=[]"
   ]
  },
  {
   "cell_type": "code",
   "execution_count": 902,
   "metadata": {},
   "outputs": [],
   "source": [
    "brands_all=brands1+brands2+brands3"
   ]
  },
  {
   "cell_type": "code",
   "execution_count": 903,
   "metadata": {},
   "outputs": [],
   "source": [
    "descriptions=descriptions1+descriptions2+descriptions3"
   ]
  },
  {
   "cell_type": "code",
   "execution_count": 904,
   "metadata": {},
   "outputs": [],
   "source": [
    "prices=prices1+prices2+prices3"
   ]
  },
  {
   "cell_type": "code",
   "execution_count": 905,
   "metadata": {},
   "outputs": [],
   "source": [
    "offers=offers1+offers2+offers3"
   ]
  },
  {
   "cell_type": "code",
   "execution_count": 915,
   "metadata": {},
   "outputs": [
    {
     "name": "stdout",
     "output_type": "stream",
     "text": [
      "100 100 100 100\n"
     ]
    }
   ],
   "source": [
    "print(len(brands_all),len(descriptions),len(prices),len(offers))"
   ]
  },
  {
   "cell_type": "code",
   "execution_count": 916,
   "metadata": {},
   "outputs": [
    {
     "data": {
      "text/html": [
       "<div>\n",
       "<style scoped>\n",
       "    .dataframe tbody tr th:only-of-type {\n",
       "        vertical-align: middle;\n",
       "    }\n",
       "\n",
       "    .dataframe tbody tr th {\n",
       "        vertical-align: top;\n",
       "    }\n",
       "\n",
       "    .dataframe thead th {\n",
       "        text-align: right;\n",
       "    }\n",
       "</style>\n",
       "<table border=\"1\" class=\"dataframe\">\n",
       "  <thead>\n",
       "    <tr style=\"text-align: right;\">\n",
       "      <th></th>\n",
       "      <th>Brand</th>\n",
       "      <th>Description</th>\n",
       "      <th>Price</th>\n",
       "      <th>Offer</th>\n",
       "    </tr>\n",
       "  </thead>\n",
       "  <tbody>\n",
       "    <tr>\n",
       "      <th>0</th>\n",
       "      <td>BIRDE</td>\n",
       "      <td>Trendy Combo Pack of 2 Casual Shoes Sneakers F...</td>\n",
       "      <td>₹474</td>\n",
       "      <td>68% off</td>\n",
       "    </tr>\n",
       "    <tr>\n",
       "      <th>1</th>\n",
       "      <td>BIRDE</td>\n",
       "      <td>Casual Shoes Sneakers For Men</td>\n",
       "      <td>₹348</td>\n",
       "      <td>65% off</td>\n",
       "    </tr>\n",
       "    <tr>\n",
       "      <th>2</th>\n",
       "      <td>RapidBox</td>\n",
       "      <td>Super Stylish &amp; Trendy Combo Pack of 02 Pairs ...</td>\n",
       "      <td>₹680</td>\n",
       "      <td>31% off</td>\n",
       "    </tr>\n",
       "    <tr>\n",
       "      <th>3</th>\n",
       "      <td>Chevit</td>\n",
       "      <td>White Sneaker For Men Sneakers For Men</td>\n",
       "      <td>₹699</td>\n",
       "      <td>56% off</td>\n",
       "    </tr>\n",
       "    <tr>\n",
       "      <th>4</th>\n",
       "      <td>Numenzo</td>\n",
       "      <td>Sports Running Shoes Sneakers For Men</td>\n",
       "      <td>₹479</td>\n",
       "      <td>63% off</td>\n",
       "    </tr>\n",
       "    <tr>\n",
       "      <th>...</th>\n",
       "      <td>...</td>\n",
       "      <td>...</td>\n",
       "      <td>...</td>\n",
       "      <td>...</td>\n",
       "    </tr>\n",
       "    <tr>\n",
       "      <th>95</th>\n",
       "      <td>BIRDE</td>\n",
       "      <td>Sneakers for men(black_6) Sneakers For Men</td>\n",
       "      <td>₹649</td>\n",
       "      <td>58% off</td>\n",
       "    </tr>\n",
       "    <tr>\n",
       "      <th>96</th>\n",
       "      <td>Clymb</td>\n",
       "      <td>Shuffle Sneakers For Men</td>\n",
       "      <td>₹198</td>\n",
       "      <td>50% off</td>\n",
       "    </tr>\n",
       "    <tr>\n",
       "      <th>97</th>\n",
       "      <td>HOTSTYLE</td>\n",
       "      <td>Fashion Outdoor Canvas Casual Light Weight Lac...</td>\n",
       "      <td>₹849</td>\n",
       "      <td>55% off</td>\n",
       "    </tr>\n",
       "    <tr>\n",
       "      <th>98</th>\n",
       "      <td>SPARX</td>\n",
       "      <td>Combo Pack Of 4 Casual Sneakers For Men</td>\n",
       "      <td>₹598</td>\n",
       "      <td>46% off</td>\n",
       "    </tr>\n",
       "    <tr>\n",
       "      <th>99</th>\n",
       "      <td>BIRDE</td>\n",
       "      <td>Birde Trendy Casual Shoes Sneakers For Men</td>\n",
       "      <td>₹418</td>\n",
       "      <td>63% off</td>\n",
       "    </tr>\n",
       "  </tbody>\n",
       "</table>\n",
       "<p>100 rows × 4 columns</p>\n",
       "</div>"
      ],
      "text/plain": [
       "       Brand                                        Description Price    Offer\n",
       "0      BIRDE  Trendy Combo Pack of 2 Casual Shoes Sneakers F...  ₹474  68% off\n",
       "1      BIRDE                      Casual Shoes Sneakers For Men  ₹348  65% off\n",
       "2   RapidBox  Super Stylish & Trendy Combo Pack of 02 Pairs ...  ₹680  31% off\n",
       "3     Chevit             White Sneaker For Men Sneakers For Men  ₹699  56% off\n",
       "4    Numenzo              Sports Running Shoes Sneakers For Men  ₹479  63% off\n",
       "..       ...                                                ...   ...      ...\n",
       "95     BIRDE         Sneakers for men(black_6) Sneakers For Men  ₹649  58% off\n",
       "96     Clymb                           Shuffle Sneakers For Men  ₹198  50% off\n",
       "97  HOTSTYLE  Fashion Outdoor Canvas Casual Light Weight Lac...  ₹849  55% off\n",
       "98     SPARX            Combo Pack Of 4 Casual Sneakers For Men  ₹598  46% off\n",
       "99     BIRDE         Birde Trendy Casual Shoes Sneakers For Men  ₹418  63% off\n",
       "\n",
       "[100 rows x 4 columns]"
      ]
     },
     "execution_count": 916,
     "metadata": {},
     "output_type": "execute_result"
    }
   ],
   "source": [
    "df=pd.DataFrame({'Brand':brands_all,'Description':descriptions,'Price':prices,'Offer':offers})\n",
    "df"
   ]
  },
  {
   "cell_type": "markdown",
   "metadata": {},
   "source": [
    "# Question 7"
   ]
  },
  {
   "cell_type": "code",
   "execution_count": 917,
   "metadata": {},
   "outputs": [],
   "source": [
    "driver = webdriver.Chrome(r\"C:/Users/RAJIT/Downloads/chromedriver_win32/chromedriver.exe\")"
   ]
  },
  {
   "cell_type": "code",
   "execution_count": 918,
   "metadata": {},
   "outputs": [],
   "source": [
    "driver.get('https://www.myntra.com/shoes')"
   ]
  },
  {
   "cell_type": "code",
   "execution_count": 919,
   "metadata": {},
   "outputs": [],
   "source": [
    "driver.find_element_by_xpath('//*[@id=\"mountRoot\"]/div/div[1]/main/div[3]/div[1]/section/div/div[5]/ul/li[2]/label/div').click()"
   ]
  },
  {
   "cell_type": "code",
   "execution_count": 920,
   "metadata": {},
   "outputs": [],
   "source": [
    "driver.find_element_by_xpath('//*[@id=\"mountRoot\"]/div/div[1]/main/div[3]/div[1]/section/div/div[6]/ul/li[1]/label/div').click()"
   ]
  },
  {
   "cell_type": "code",
   "execution_count": 921,
   "metadata": {},
   "outputs": [],
   "source": [
    "brand_tag1=driver.find_elements_by_xpath(\"//h3[@class='product-brand']\")"
   ]
  },
  {
   "cell_type": "code",
   "execution_count": 922,
   "metadata": {},
   "outputs": [
    {
     "data": {
      "text/plain": [
       "['Fentacia',\n",
       " 'Street Style Store',\n",
       " 'Eego Italy',\n",
       " 'Nike',\n",
       " 'Reebok',\n",
       " 'ZAPATOZ',\n",
       " 'Red Tape',\n",
       " 'Nike',\n",
       " 'H&M',\n",
       " 'Red Tape',\n",
       " 'Nike',\n",
       " 'Metro',\n",
       " 'Mactree',\n",
       " 'Puma',\n",
       " 'Alishtezia',\n",
       " 'MENGLER',\n",
       " 'ELIXIR MAN',\n",
       " 'Puma',\n",
       " 'CLYMB',\n",
       " 'Mactree',\n",
       " 'mr.wonker',\n",
       " 'Puma',\n",
       " 'Vans',\n",
       " 'Nike',\n",
       " 'ZAPATOZ',\n",
       " 'UNDER ARMOUR',\n",
       " 'Red Tape',\n",
       " 'AfroJack',\n",
       " 'Puma',\n",
       " 'PUMA Motorsport',\n",
       " 'Skechers',\n",
       " 'ADIDAS',\n",
       " 'PUMA Motorsport',\n",
       " 'Nike',\n",
       " 'Puma',\n",
       " 'PUMA Motorsport',\n",
       " 'U.S. Polo Assn.',\n",
       " 'Sir Corbett',\n",
       " 'Puma',\n",
       " 'Reebok',\n",
       " 'Lotto',\n",
       " 'PUMA Motorsport',\n",
       " 'Provogue',\n",
       " 'Puma',\n",
       " 'Red Tape',\n",
       " 'U.S. Polo Assn.',\n",
       " 'Skechers',\n",
       " 'Fentacia',\n",
       " 'HIGHLANDER',\n",
       " 'Mochi']"
      ]
     },
     "execution_count": 922,
     "metadata": {},
     "output_type": "execute_result"
    }
   ],
   "source": [
    "brands1=[]\n",
    "for i in brand_tag1:\n",
    "    brand1=i.text\n",
    "    brands1.append(brand1)\n",
    "brands1"
   ]
  },
  {
   "cell_type": "code",
   "execution_count": 923,
   "metadata": {},
   "outputs": [],
   "source": [
    "description_tag1=driver.find_elements_by_xpath(\"//h4[@class='product-product']\")"
   ]
  },
  {
   "cell_type": "code",
   "execution_count": 924,
   "metadata": {},
   "outputs": [
    {
     "data": {
      "text/plain": [
       "['Men Woven Flat Boots',\n",
       " 'Women Suede High-Top Flat Boots',\n",
       " 'Men Trekking Shoes',\n",
       " 'Men Revolution 5 Running Shoes',\n",
       " 'Men Stride Running Shoes',\n",
       " 'Women Heeled Boots',\n",
       " 'Men Walking Shoes',\n",
       " 'Men Court Lite 2 Tennis Shoes',\n",
       " 'Women Chelsea Boots',\n",
       " 'Men Walking Non-Marking Shoes',\n",
       " 'Men Zoom Span 4 Running Shoes',\n",
       " 'Women High-Top Heeled Boots',\n",
       " 'Men Solid Leather Loafers',\n",
       " 'Men SOFTRIDE Rift Shoes',\n",
       " 'Women Walking Shoes',\n",
       " 'Men Walking Shoes',\n",
       " 'Men Sneakers',\n",
       " 'Men Softride Enzo NXT Shoes',\n",
       " 'Men Running Shoes',\n",
       " 'Men Slip-On Sneakers',\n",
       " 'Men Striped High-Top Sneakers',\n",
       " 'Men Dexster IDP Sneakers',\n",
       " 'Men Printed Sneakers',\n",
       " 'Women MD Runner 2 SE Running',\n",
       " 'Women Block Heeled Boots',\n",
       " 'Men HOVR Apex 2 Training',\n",
       " 'Men Air + Walking Shoes',\n",
       " 'Men Slip-On Sneakers Casual Shoes',\n",
       " 'Men Softride Rift Shoes',\n",
       " 'Unisex BMW M Ridge Sneakers',\n",
       " 'Men ELITE FLEX Sneakers',\n",
       " 'Men Glarus Running Shoes',\n",
       " 'Unisex BMW RS-Connect Sneakers',\n",
       " 'Men FLIGHT LEGACY Sneakers',\n",
       " 'Women Softride Running Shoes',\n",
       " 'Unisex Mercedes F1 Shoes',\n",
       " 'Men Walking Shoes',\n",
       " 'Semi-Formal Shoes',\n",
       " 'Men Flexracer 19 IDP Shoes',\n",
       " 'Comfort Infused Running Shoes',\n",
       " 'Men Walking Shoes',\n",
       " 'Unisex Ferrari Drift8 Sneakers',\n",
       " 'Men Solid Penny Loafers',\n",
       " 'Unisex Kids Woven Design Sneakers',\n",
       " 'Men Walking Shoes',\n",
       " 'Men BRONEL 2.0 Walking Shoes',\n",
       " 'Men Go Walk Evolution Ultra',\n",
       " 'Men Lightweight Flat Boots',\n",
       " 'Men Woven Design Sneakers',\n",
       " 'Women Heeled Boots']"
      ]
     },
     "execution_count": 924,
     "metadata": {},
     "output_type": "execute_result"
    }
   ],
   "source": [
    "descriptions1=[]\n",
    "for i in description_tag1:\n",
    "    description1=i.text\n",
    "    descriptions1.append(description1)\n",
    "descriptions1"
   ]
  },
  {
   "cell_type": "code",
   "execution_count": 925,
   "metadata": {},
   "outputs": [],
   "source": [
    "price_tag1=driver.find_elements_by_xpath(\"//div[@class='product-price']\")"
   ]
  },
  {
   "cell_type": "code",
   "execution_count": 926,
   "metadata": {},
   "outputs": [
    {
     "data": {
      "text/plain": [
       "['Rs. 879Rs. 3999(78% OFF)',\n",
       " 'Rs. 1199Rs. 1999(Rs. 800 OFF)',\n",
       " 'Rs. 899Rs. 2599(Rs. 1700 OFF)',\n",
       " 'Rs. 3695',\n",
       " 'Rs. 1899',\n",
       " 'Rs. 699Rs. 999(30% OFF)',\n",
       " 'Rs. 1049Rs. 3899(Rs. 2850 OFF)',\n",
       " 'Rs. 4995',\n",
       " 'Rs. 2699',\n",
       " 'Rs. 1469Rs. 4899(70% OFF)',\n",
       " 'Rs. 7195',\n",
       " 'Rs. 5490',\n",
       " 'Rs. 799Rs. 3995(80% OFF)',\n",
       " 'Rs. 3899Rs. 6499(40% OFF)',\n",
       " 'Rs. 799Rs. 999(20% OFF)',\n",
       " 'Rs. 724Rs. 2499(71% OFF)',\n",
       " 'Rs. 539Rs. 1999(73% OFF)',\n",
       " 'Rs. 4124Rs. 5499(25% OFF)',\n",
       " 'Rs. 794Rs. 1499(47% OFF)',\n",
       " 'Rs. 799Rs. 3995(80% OFF)',\n",
       " 'Rs. 739Rs. 3699(80% OFF)',\n",
       " 'Rs. 1799Rs. 3999(55% OFF)',\n",
       " 'Rs. 2499Rs. 4999(50% OFF)',\n",
       " 'Rs. 5795',\n",
       " 'Rs. 1759Rs. 3999(56% OFF)',\n",
       " 'Rs. 13999',\n",
       " 'Rs. 2099Rs. 6999(70% OFF)',\n",
       " 'Rs. 749Rs. 3745(80% OFF)',\n",
       " 'Rs. 3899Rs. 6499(40% OFF)',\n",
       " 'Rs. 4799Rs. 7999(40% OFF)',\n",
       " 'Rs. 5399Rs. 5999(10% OFF)',\n",
       " 'Rs. 1749Rs. 2499(30% OFF)',\n",
       " 'Rs. 5999Rs. 9999(40% OFF)',\n",
       " 'Rs. 7995',\n",
       " 'Rs. 3599Rs. 5999(40% OFF)',\n",
       " 'Rs. 4799Rs. 7999(40% OFF)',\n",
       " 'Rs. 2364Rs. 4299(45% OFF)',\n",
       " 'Rs. 809Rs. 2699(70% OFF)',\n",
       " 'Rs. 1499Rs. 2499(40% OFF)',\n",
       " 'Rs. 3199Rs. 3999(20% OFF)',\n",
       " 'Rs. 839Rs. 2799(70% OFF)',\n",
       " 'Rs. 4799Rs. 7999(40% OFF)',\n",
       " 'Rs. 699Rs. 2595(Rs. 1896 OFF)',\n",
       " 'Rs. 1299Rs. 1999(35% OFF)',\n",
       " 'Rs. 1049Rs. 6995(Rs. 5946 OFF)',\n",
       " 'Rs. 2399Rs. 3999(40% OFF)',\n",
       " 'Rs. 5499',\n",
       " 'Rs. 1319Rs. 3999(67% OFF)',\n",
       " 'Rs. 895Rs. 1990(55% OFF)',\n",
       " 'Rs. 2490']"
      ]
     },
     "execution_count": 926,
     "metadata": {},
     "output_type": "execute_result"
    }
   ],
   "source": [
    "prices1=[]\n",
    "for i in price_tag1:\n",
    "    price1=i.text\n",
    "    prices1.append(price1)\n",
    "prices1"
   ]
  },
  {
   "cell_type": "code",
   "execution_count": 927,
   "metadata": {},
   "outputs": [],
   "source": [
    "driver.find_element_by_xpath('//*[@id=\"desktopSearchResults\"]/div[2]/section/div[2]/ul/li[3]/a').click()"
   ]
  },
  {
   "cell_type": "code",
   "execution_count": 928,
   "metadata": {},
   "outputs": [
    {
     "data": {
      "text/plain": [
       "['Mochi',\n",
       " 'ASIAN',\n",
       " 'TWIN TOES',\n",
       " 'Puma',\n",
       " 'Crew STREET',\n",
       " 'Red Tape',\n",
       " 'LONDON STEPS',\n",
       " 'Alishtezia',\n",
       " 'Campus',\n",
       " 'one8 x PUMA',\n",
       " 'Skechers',\n",
       " 'PUMA Motorsport',\n",
       " 'Puma',\n",
       " 'Tommy Hilfiger',\n",
       " 'ADIDAS',\n",
       " 'Roadster',\n",
       " 'Puma',\n",
       " 'U.S. Polo Assn.',\n",
       " '20Dresses',\n",
       " 'Nike',\n",
       " 'Crocs',\n",
       " 'Skechers',\n",
       " 'one8 x PUMA',\n",
       " 'Puma',\n",
       " 'Red Tape',\n",
       " 'U.S. Polo Assn.',\n",
       " 'mr.wonker',\n",
       " 'U.S. Polo Assn.',\n",
       " 'Puma',\n",
       " 'Khadims',\n",
       " 'Puma',\n",
       " 'Flat n Heels',\n",
       " 'ZAPATOZ',\n",
       " 'Puma',\n",
       " 'ADIDAS',\n",
       " 'Slazenger',\n",
       " 'ASICS',\n",
       " 'Domyos By Decathlon',\n",
       " 'Alishtezia',\n",
       " 'Sparx',\n",
       " 'Puma',\n",
       " 'U.S. Polo Assn.',\n",
       " 'PUMA Motorsport',\n",
       " 'Puma',\n",
       " 'Mactree',\n",
       " 'HRX by Hrithik Roshan',\n",
       " 'mr.wonker',\n",
       " 'Roadster',\n",
       " 'United Colors of Benetton',\n",
       " 'Roadster']"
      ]
     },
     "execution_count": 928,
     "metadata": {},
     "output_type": "execute_result"
    }
   ],
   "source": [
    "brand_tag2=driver.find_elements_by_xpath(\"//h3[@class='product-brand']\")\n",
    "brands2=[]\n",
    "for i in brand_tag2:\n",
    "    brand2=i.text\n",
    "    brands2.append(brand2)\n",
    "brands2"
   ]
  },
  {
   "cell_type": "code",
   "execution_count": 929,
   "metadata": {},
   "outputs": [
    {
     "data": {
      "text/plain": [
       "['',\n",
       " 'Men Running Shoes',\n",
       " 'Mid-Top Block Heeled Boots',\n",
       " 'Men Leader VT Running Shoes',\n",
       " 'Women Running Shoes',\n",
       " 'Men Solid Leather Formal Derbys',\n",
       " 'Block Heeled Boots',\n",
       " 'Woman Black Block Heeled Boots',\n",
       " 'Men Running Shoes',\n",
       " 'Men Fame Solid Sneakers',\n",
       " 'Men Equalizer 3.0 Sneakers',\n",
       " 'Unisex Ferrari X-Ray Sneakers',\n",
       " 'Men Better Foam Emerge',\n",
       " 'Women Leather Block Pumps',\n",
       " 'Hellion Z Running Shoes',\n",
       " 'Men Solid Chelsea Boots',\n",
       " 'Men Rapido III IT Shoes',\n",
       " 'Men Textured Driving Shoes',\n",
       " 'Women Block Heeled Boots',\n",
       " 'Men Ebernon Low Sneakers',\n",
       " 'Women Open Toe Flats',\n",
       " 'Men GO RUN FAST Running Shoes',\n",
       " 'Men Alder IDP Running Shoes',\n",
       " 'Men Cell Fraction Fade Running',\n",
       " 'Men Leather Flat Boots',\n",
       " 'Men LEBRON 2.0 Walking Shoes',\n",
       " 'Men Running Shoes',\n",
       " 'Men Pret PU Sneakers',\n",
       " 'Men Hurdler IDP Sneakers',\n",
       " 'Men Walking Shoes',\n",
       " 'Men Running Shoes',\n",
       " 'Women Suede Block Heeled Boots',\n",
       " 'Women Heeled Boots',\n",
       " 'Unisex Textured Sneakers',\n",
       " 'Men Woven Design Running Shoes',\n",
       " 'Men Running Shoes',\n",
       " 'Men GEL-KAYANO 27 Shoes',\n",
       " 'Men Training & Gym Shoes',\n",
       " 'Women Textured PU Flat Boots',\n",
       " 'Men Running Shoes',\n",
       " 'Men Training or Gym Shoes',\n",
       " 'Men MIRANO 2.0 Driving Shoes',\n",
       " 'Unisex Ferrari Drift Sneakers',\n",
       " 'Men Pure XT Training Shoes',\n",
       " 'Men Suede Loafers',\n",
       " 'Men Alpha Running Shoe',\n",
       " 'Men Solid Formal Loafers',\n",
       " 'Mid-Top Block Heeled Boots',\n",
       " 'Men Perforated Sneakers',\n",
       " 'Men Solid Sneakers']"
      ]
     },
     "execution_count": 929,
     "metadata": {},
     "output_type": "execute_result"
    }
   ],
   "source": [
    "description_tag2=driver.find_elements_by_xpath(\"//h4[@class='product-product']\")\n",
    "descriptions2=[]\n",
    "for i in description_tag2:\n",
    "    description2=i.text\n",
    "    descriptions2.append(description2)\n",
    "descriptions2"
   ]
  },
  {
   "cell_type": "code",
   "execution_count": 930,
   "metadata": {},
   "outputs": [
    {
     "data": {
      "text/plain": [
       "['Rs. 2490',\n",
       " 'Rs. 659Rs. 999(Rs. 340 OFF)',\n",
       " 'Rs. 624Rs. 1499(Rs. 875 OFF)',\n",
       " 'Rs. 4799Rs. 5999(20% OFF)',\n",
       " 'Rs. 699Rs. 2799(75% OFF)',\n",
       " 'Rs. 1649Rs. 6599(75% OFF)',\n",
       " 'Rs. 999',\n",
       " 'Rs. 1319Rs. 3299(60% OFF)',\n",
       " 'Rs. 1799Rs. 2399(25% OFF)',\n",
       " 'Rs. 1799Rs. 4499(60% OFF)',\n",
       " 'Rs. 4319Rs. 4799(10% OFF)',\n",
       " 'Rs. 4799Rs. 7999(40% OFF)',\n",
       " 'Rs. 3299Rs. 5499(40% OFF)',\n",
       " 'Rs. 7999',\n",
       " 'Rs. 2474Rs. 3299(25% OFF)',\n",
       " 'Rs. 999Rs. 2599(Rs. 1600 OFF)',\n",
       " 'Rs. 1799Rs. 2999(40% OFF)',\n",
       " 'Rs. 1979Rs. 3599(45% OFF)',\n",
       " 'Rs. 2156Rs. 2695(20% OFF)',\n",
       " 'Rs. 4795',\n",
       " 'Rs. 2156Rs. 2995(28% OFF)',\n",
       " 'Rs. 5299',\n",
       " 'Rs. 2449Rs. 3499(30% OFF)',\n",
       " 'Rs. 6999',\n",
       " 'Rs. 2069Rs. 6899(70% OFF)',\n",
       " 'Rs. 2199Rs. 3999(45% OFF)',\n",
       " 'Rs. 665Rs. 3329(80% OFF)',\n",
       " 'Rs. 2474Rs. 4499(45% OFF)',\n",
       " 'Rs. 1599Rs. 3999(60% OFF)',\n",
       " 'Rs. 959Rs. 1599(40% OFF)',\n",
       " 'Rs. 1574Rs. 3499(55% OFF)',\n",
       " 'Rs. 4199Rs. 5999(30% OFF)',\n",
       " 'Rs. 669Rs. 999(33% OFF)',\n",
       " 'Rs. 5999Rs. 9999(40% OFF)',\n",
       " 'Rs. 2009Rs. 2999(33% OFF)',\n",
       " 'Rs. 2799',\n",
       " 'Rs. 11999Rs. 14999(20% OFF)',\n",
       " 'Rs. 2679Rs. 3999(33% OFF)',\n",
       " 'Rs. 1759Rs. 3999(56% OFF)',\n",
       " 'Rs. 1169Rs. 1299(10% OFF)',\n",
       " 'Rs. 2999Rs. 4999(40% OFF)',\n",
       " 'Rs. 1649Rs. 2999(45% OFF)',\n",
       " 'Rs. 4799Rs. 7999(40% OFF)',\n",
       " 'Rs. 4199Rs. 6999(40% OFF)',\n",
       " 'Rs. 849Rs. 4245(80% OFF)',\n",
       " 'Rs. 1919Rs. 4799(60% OFF)',\n",
       " 'Rs. 665Rs. 3329(80% OFF)',\n",
       " 'Rs. 2729Rs. 3899(30% OFF)',\n",
       " 'Rs. 2239Rs. 3199(30% OFF)',\n",
       " 'Rs. 2219Rs. 3699(40% OFF)']"
      ]
     },
     "execution_count": 930,
     "metadata": {},
     "output_type": "execute_result"
    }
   ],
   "source": [
    "price_tag2=driver.find_elements_by_xpath(\"//div[@class='product-price']\")\n",
    "prices2=[]\n",
    "for i in price_tag2:\n",
    "    price2=i.text\n",
    "    prices2.append(price2)\n",
    "prices2"
   ]
  },
  {
   "cell_type": "code",
   "execution_count": 931,
   "metadata": {},
   "outputs": [],
   "source": [
    "brands=brands1+brands2\n",
    "descriptions=descriptions1+descriptions2\n",
    "prices=prices1+prices2"
   ]
  },
  {
   "cell_type": "code",
   "execution_count": 932,
   "metadata": {},
   "outputs": [
    {
     "name": "stdout",
     "output_type": "stream",
     "text": [
      "100 100 100\n"
     ]
    }
   ],
   "source": [
    "print(len(brands),len(descriptions),len(prices))"
   ]
  },
  {
   "cell_type": "code",
   "execution_count": 933,
   "metadata": {},
   "outputs": [
    {
     "data": {
      "text/html": [
       "<div>\n",
       "<style scoped>\n",
       "    .dataframe tbody tr th:only-of-type {\n",
       "        vertical-align: middle;\n",
       "    }\n",
       "\n",
       "    .dataframe tbody tr th {\n",
       "        vertical-align: top;\n",
       "    }\n",
       "\n",
       "    .dataframe thead th {\n",
       "        text-align: right;\n",
       "    }\n",
       "</style>\n",
       "<table border=\"1\" class=\"dataframe\">\n",
       "  <thead>\n",
       "    <tr style=\"text-align: right;\">\n",
       "      <th></th>\n",
       "      <th>Brand</th>\n",
       "      <th>Description</th>\n",
       "      <th>Price</th>\n",
       "    </tr>\n",
       "  </thead>\n",
       "  <tbody>\n",
       "    <tr>\n",
       "      <th>0</th>\n",
       "      <td>Fentacia</td>\n",
       "      <td>Men Woven Flat Boots</td>\n",
       "      <td>Rs. 879Rs. 3999(78% OFF)</td>\n",
       "    </tr>\n",
       "    <tr>\n",
       "      <th>1</th>\n",
       "      <td>Street Style Store</td>\n",
       "      <td>Women Suede High-Top Flat Boots</td>\n",
       "      <td>Rs. 1199Rs. 1999(Rs. 800 OFF)</td>\n",
       "    </tr>\n",
       "    <tr>\n",
       "      <th>2</th>\n",
       "      <td>Eego Italy</td>\n",
       "      <td>Men Trekking Shoes</td>\n",
       "      <td>Rs. 899Rs. 2599(Rs. 1700 OFF)</td>\n",
       "    </tr>\n",
       "    <tr>\n",
       "      <th>3</th>\n",
       "      <td>Nike</td>\n",
       "      <td>Men Revolution 5 Running Shoes</td>\n",
       "      <td>Rs. 3695</td>\n",
       "    </tr>\n",
       "    <tr>\n",
       "      <th>4</th>\n",
       "      <td>Reebok</td>\n",
       "      <td>Men Stride Running Shoes</td>\n",
       "      <td>Rs. 1899</td>\n",
       "    </tr>\n",
       "    <tr>\n",
       "      <th>...</th>\n",
       "      <td>...</td>\n",
       "      <td>...</td>\n",
       "      <td>...</td>\n",
       "    </tr>\n",
       "    <tr>\n",
       "      <th>95</th>\n",
       "      <td>HRX by Hrithik Roshan</td>\n",
       "      <td>Men Alpha Running Shoe</td>\n",
       "      <td>Rs. 1919Rs. 4799(60% OFF)</td>\n",
       "    </tr>\n",
       "    <tr>\n",
       "      <th>96</th>\n",
       "      <td>mr.wonker</td>\n",
       "      <td>Men Solid Formal Loafers</td>\n",
       "      <td>Rs. 665Rs. 3329(80% OFF)</td>\n",
       "    </tr>\n",
       "    <tr>\n",
       "      <th>97</th>\n",
       "      <td>Roadster</td>\n",
       "      <td>Mid-Top Block Heeled Boots</td>\n",
       "      <td>Rs. 2729Rs. 3899(30% OFF)</td>\n",
       "    </tr>\n",
       "    <tr>\n",
       "      <th>98</th>\n",
       "      <td>United Colors of Benetton</td>\n",
       "      <td>Men Perforated Sneakers</td>\n",
       "      <td>Rs. 2239Rs. 3199(30% OFF)</td>\n",
       "    </tr>\n",
       "    <tr>\n",
       "      <th>99</th>\n",
       "      <td>Roadster</td>\n",
       "      <td>Men Solid Sneakers</td>\n",
       "      <td>Rs. 2219Rs. 3699(40% OFF)</td>\n",
       "    </tr>\n",
       "  </tbody>\n",
       "</table>\n",
       "<p>100 rows × 3 columns</p>\n",
       "</div>"
      ],
      "text/plain": [
       "                        Brand                      Description  \\\n",
       "0                    Fentacia             Men Woven Flat Boots   \n",
       "1          Street Style Store  Women Suede High-Top Flat Boots   \n",
       "2                  Eego Italy               Men Trekking Shoes   \n",
       "3                        Nike   Men Revolution 5 Running Shoes   \n",
       "4                      Reebok         Men Stride Running Shoes   \n",
       "..                        ...                              ...   \n",
       "95      HRX by Hrithik Roshan           Men Alpha Running Shoe   \n",
       "96                  mr.wonker         Men Solid Formal Loafers   \n",
       "97                   Roadster       Mid-Top Block Heeled Boots   \n",
       "98  United Colors of Benetton          Men Perforated Sneakers   \n",
       "99                   Roadster               Men Solid Sneakers   \n",
       "\n",
       "                            Price  \n",
       "0        Rs. 879Rs. 3999(78% OFF)  \n",
       "1   Rs. 1199Rs. 1999(Rs. 800 OFF)  \n",
       "2   Rs. 899Rs. 2599(Rs. 1700 OFF)  \n",
       "3                        Rs. 3695  \n",
       "4                        Rs. 1899  \n",
       "..                            ...  \n",
       "95      Rs. 1919Rs. 4799(60% OFF)  \n",
       "96       Rs. 665Rs. 3329(80% OFF)  \n",
       "97      Rs. 2729Rs. 3899(30% OFF)  \n",
       "98      Rs. 2239Rs. 3199(30% OFF)  \n",
       "99      Rs. 2219Rs. 3699(40% OFF)  \n",
       "\n",
       "[100 rows x 3 columns]"
      ]
     },
     "execution_count": 933,
     "metadata": {},
     "output_type": "execute_result"
    }
   ],
   "source": [
    "df = pd.DataFrame({'Brand':brands,'Description':descriptions,'Price':prices})\n",
    "df"
   ]
  },
  {
   "cell_type": "markdown",
   "metadata": {},
   "source": [
    "# Question 8"
   ]
  },
  {
   "cell_type": "code",
   "execution_count": 2,
   "metadata": {},
   "outputs": [],
   "source": [
    "driver = webdriver.Chrome(r\"C:/Users/RAJIT/Downloads/chromedriver_win32/chromedriver.exe\")"
   ]
  },
  {
   "cell_type": "code",
   "execution_count": 3,
   "metadata": {},
   "outputs": [],
   "source": [
    "driver.get('https://www.amazon.in/')"
   ]
  },
  {
   "cell_type": "code",
   "execution_count": 4,
   "metadata": {},
   "outputs": [],
   "source": [
    "driver.find_element_by_id('twotabsearchtextbox').send_keys('laptop')\n",
    "driver.find_element_by_id('nav-search-submit-button').click()"
   ]
  },
  {
   "cell_type": "code",
   "execution_count": 5,
   "metadata": {},
   "outputs": [],
   "source": [
    "driver.find_element_by_xpath('//*[@id=\"p_n_feature_thirteen_browse-bin/12598163031\"]/span/a/div/label/i').click()"
   ]
  },
  {
   "cell_type": "code",
   "execution_count": 6,
   "metadata": {},
   "outputs": [
    {
     "data": {
      "text/plain": [
       "['Fujitsu UH-X 11th Gen Intel i7 Core 13.3 inches FHD IPS 400Nits Thin and Light Business Laptop (16GB/512GB SSD/Windows 10/Office/Iris Xe Graphics/Backlit Kb/ Fingerprint Reader/Black/0.878kg), 4ZR1D67596',\n",
       " 'Acer Nitro 5 AN515-57 Gaming Laptop | Intel Core i7-11800H |NVIDIA GeForce RTX 3050 Laptop Graphics |15.6\" FHD 144Hz IPS Display |8GB DDR4 | 256GB SSD+1TB HDD | Killer Wi-Fi 6 | RGB Backlit Keyboard',\n",
       " 'Mi Notebook Pro QHD+ IPS Anti Glare Display Intel Core i7-11370H 11th Gen 14-inch(35.56 cms) Thin and Light Laptop (16GB/512GB SSD/Iris Xe Graphics/Win 10/Backlit KB/Fingerprint Sensor/1.4 Kg)',\n",
       " 'Mi Notebook Horizon Edition 14 Intel Core i7-10510U 10th Gen Thin and Light Laptop(8GB/512GB SSD/Windows 10/Nvidia MX350 2GB Graphics/Grey/1.35Kg)(Without Webcam) XMA1904-AF',\n",
       " 'HP Pavilion (2021) Intel 11th Gen Core i7 14 inches FHD Screen Thin & Light Laptop, 16 GB RAM, 1TB SSD, Iris Xe Graphics, Windows 10, MS Office, Backlit Keyboard, 1.41kg (14-dv0058TU)',\n",
       " 'HP Pavilion Gaming(2021) 10th Gen Intel Core i7 15.6-inch(39.6 cm) FHD IPS 144Hz Gaming Laptop (16GB/512GB SSD + 32GB Intel Optane/NVIDIA GTX 1650Ti 4GB/Win 10/MS Office/Shadow Black), 15-DK1511TX',\n",
       " 'Lenovo ThinkBook 15 Intel 11th Gen Core i7 15.6\"(39.62 cm)FHD IPS 300 nits Antiglare 100% sRGB Thin & Light Laptop(16GB/1TB HDD+128GB SSD/Windows 10/MS Office/3 Yr Onsite Warranty/1.7 Kg) 20VEA0HBIH',\n",
       " 'Acer Nitro 5 AN515-57 Gaming Laptop | Intel Core i7-11800H |NVIDIA GeForce RTX 3050 Ti Laptop Graphics |15.6\" FHD 144Hz IPS Display |16GB DDR4 |256GB SSD+1TB HDD |Killer Wi-Fi 6 |RGB Backlit Keyboard',\n",
       " 'HP Pavilion 13, 11th Gen Intel Core i7, 13.3-inch(33.8 cm) FHD,IPS, Micro-Edge Laptop (16GB RAM/ 1TB SSD/ Win 10/ FPR/Audio B&O/Alexa Built-in/MS Office/ Ceramic White/ 1.24 Kg) -13-bb0078TU',\n",
       " 'Dell 15 (2021) i7-10870H Gaming Laptop, 16GB DDR4, 512GB SSD, Win 10 + MS Office, NVIDIA RTX 3050 Ti 4GB, 15.6\" (39.61 cms) FHD AG 250 nits 120Hz, Backlit KB Orange (G15 5510, D560534WIN9B)']"
      ]
     },
     "execution_count": 6,
     "metadata": {},
     "output_type": "execute_result"
    }
   ],
   "source": [
    "titles=[]\n",
    "title_tag = driver.find_elements_by_xpath('//span[@class=\"a-size-medium a-color-base a-text-normal\"]')\n",
    "for i in title_tag:\n",
    "    title = i.text\n",
    "    titles.append(title)\n",
    "titles = titles[0:10]\n",
    "titles"
   ]
  },
  {
   "cell_type": "code",
   "execution_count": 7,
   "metadata": {},
   "outputs": [
    {
     "data": {
      "text/plain": [
       "['92,990',\n",
       " '88,990',\n",
       " '72,999',\n",
       " '49,990',\n",
       " '84,990',\n",
       " '86,990',\n",
       " '85,990',\n",
       " '1,07,199',\n",
       " '87,890',\n",
       " '95,289']"
      ]
     },
     "execution_count": 7,
     "metadata": {},
     "output_type": "execute_result"
    }
   ],
   "source": [
    "prices=[]\n",
    "price_tag = driver.find_elements_by_xpath('//span[@class=\"a-price-whole\"]')\n",
    "for i in price_tag:\n",
    "    price=i.text\n",
    "    prices.append(price)\n",
    "prices=prices[0:10]\n",
    "prices"
   ]
  },
  {
   "cell_type": "code",
   "execution_count": 45,
   "metadata": {},
   "outputs": [],
   "source": [
    "ratings=[]\n",
    "rat_link = driver.find_elements_by_xpath(\"//div[@class='a-section a-spacing-none a-spacing-top-micro']//div[@class='a-row a-size-small']/span\")\n",
    "for rating in rat_link:\n",
    "    ratings.append(rating.get_attribute('aria-label'))\n",
    "ratings = ratings[0:20:2]"
   ]
  },
  {
   "cell_type": "code",
   "execution_count": 46,
   "metadata": {},
   "outputs": [
    {
     "data": {
      "text/html": [
       "<div>\n",
       "<style scoped>\n",
       "    .dataframe tbody tr th:only-of-type {\n",
       "        vertical-align: middle;\n",
       "    }\n",
       "\n",
       "    .dataframe tbody tr th {\n",
       "        vertical-align: top;\n",
       "    }\n",
       "\n",
       "    .dataframe thead th {\n",
       "        text-align: right;\n",
       "    }\n",
       "</style>\n",
       "<table border=\"1\" class=\"dataframe\">\n",
       "  <thead>\n",
       "    <tr style=\"text-align: right;\">\n",
       "      <th></th>\n",
       "      <th>Title</th>\n",
       "      <th>Prics</th>\n",
       "      <th>Rating</th>\n",
       "    </tr>\n",
       "  </thead>\n",
       "  <tbody>\n",
       "    <tr>\n",
       "      <th>0</th>\n",
       "      <td>Fujitsu UH-X 11th Gen Intel i7 Core 13.3 inche...</td>\n",
       "      <td>92,990</td>\n",
       "      <td>4.3 out of 5 stars</td>\n",
       "    </tr>\n",
       "    <tr>\n",
       "      <th>1</th>\n",
       "      <td>Acer Nitro 5 AN515-57 Gaming Laptop | Intel Co...</td>\n",
       "      <td>88,990</td>\n",
       "      <td>4.1 out of 5 stars</td>\n",
       "    </tr>\n",
       "    <tr>\n",
       "      <th>2</th>\n",
       "      <td>Mi Notebook Pro QHD+ IPS Anti Glare Display In...</td>\n",
       "      <td>72,999</td>\n",
       "      <td>4.3 out of 5 stars</td>\n",
       "    </tr>\n",
       "    <tr>\n",
       "      <th>3</th>\n",
       "      <td>Mi Notebook Horizon Edition 14 Intel Core i7-1...</td>\n",
       "      <td>49,990</td>\n",
       "      <td>4.2 out of 5 stars</td>\n",
       "    </tr>\n",
       "    <tr>\n",
       "      <th>4</th>\n",
       "      <td>HP Pavilion (2021) Intel 11th Gen Core i7 14 i...</td>\n",
       "      <td>84,990</td>\n",
       "      <td>4.3 out of 5 stars</td>\n",
       "    </tr>\n",
       "    <tr>\n",
       "      <th>5</th>\n",
       "      <td>HP Pavilion Gaming(2021) 10th Gen Intel Core i...</td>\n",
       "      <td>86,990</td>\n",
       "      <td>4.1 out of 5 stars</td>\n",
       "    </tr>\n",
       "    <tr>\n",
       "      <th>6</th>\n",
       "      <td>Lenovo ThinkBook 15 Intel 11th Gen Core i7 15....</td>\n",
       "      <td>85,990</td>\n",
       "      <td>4.3 out of 5 stars</td>\n",
       "    </tr>\n",
       "    <tr>\n",
       "      <th>7</th>\n",
       "      <td>Acer Nitro 5 AN515-57 Gaming Laptop | Intel Co...</td>\n",
       "      <td>1,07,199</td>\n",
       "      <td>4.1 out of 5 stars</td>\n",
       "    </tr>\n",
       "    <tr>\n",
       "      <th>8</th>\n",
       "      <td>HP Pavilion 13, 11th Gen Intel Core i7, 13.3-i...</td>\n",
       "      <td>87,890</td>\n",
       "      <td>4.6 out of 5 stars</td>\n",
       "    </tr>\n",
       "    <tr>\n",
       "      <th>9</th>\n",
       "      <td>Dell 15 (2021) i7-10870H Gaming Laptop, 16GB D...</td>\n",
       "      <td>95,289</td>\n",
       "      <td>3.8 out of 5 stars</td>\n",
       "    </tr>\n",
       "  </tbody>\n",
       "</table>\n",
       "</div>"
      ],
      "text/plain": [
       "                                               Title     Prics  \\\n",
       "0  Fujitsu UH-X 11th Gen Intel i7 Core 13.3 inche...    92,990   \n",
       "1  Acer Nitro 5 AN515-57 Gaming Laptop | Intel Co...    88,990   \n",
       "2  Mi Notebook Pro QHD+ IPS Anti Glare Display In...    72,999   \n",
       "3  Mi Notebook Horizon Edition 14 Intel Core i7-1...    49,990   \n",
       "4  HP Pavilion (2021) Intel 11th Gen Core i7 14 i...    84,990   \n",
       "5  HP Pavilion Gaming(2021) 10th Gen Intel Core i...    86,990   \n",
       "6  Lenovo ThinkBook 15 Intel 11th Gen Core i7 15....    85,990   \n",
       "7  Acer Nitro 5 AN515-57 Gaming Laptop | Intel Co...  1,07,199   \n",
       "8  HP Pavilion 13, 11th Gen Intel Core i7, 13.3-i...    87,890   \n",
       "9  Dell 15 (2021) i7-10870H Gaming Laptop, 16GB D...    95,289   \n",
       "\n",
       "               Rating  \n",
       "0  4.3 out of 5 stars  \n",
       "1  4.1 out of 5 stars  \n",
       "2  4.3 out of 5 stars  \n",
       "3  4.2 out of 5 stars  \n",
       "4  4.3 out of 5 stars  \n",
       "5  4.1 out of 5 stars  \n",
       "6  4.3 out of 5 stars  \n",
       "7  4.1 out of 5 stars  \n",
       "8  4.6 out of 5 stars  \n",
       "9  3.8 out of 5 stars  "
      ]
     },
     "execution_count": 46,
     "metadata": {},
     "output_type": "execute_result"
    }
   ],
   "source": [
    "df = pd.DataFrame({'Title':titles,'Prics':prices,'Rating':ratings})\n",
    "df"
   ]
  },
  {
   "cell_type": "markdown",
   "metadata": {},
   "source": [
    "# Question 9"
   ]
  },
  {
   "cell_type": "code",
   "execution_count": 2,
   "metadata": {},
   "outputs": [],
   "source": [
    "driver = webdriver.Chrome(r\"C:/Users/RAJIT/Downloads/chromedriver_win32/chromedriver.exe\")"
   ]
  },
  {
   "cell_type": "code",
   "execution_count": 3,
   "metadata": {},
   "outputs": [],
   "source": [
    "driver.get(\"https://www.ambitionbox.com/jobs/search?tag=Data%20Scientist&location=Noida\")"
   ]
  },
  {
   "cell_type": "code",
   "execution_count": 19,
   "metadata": {},
   "outputs": [
    {
     "data": {
      "text/plain": [
       "['LG Electronics India Pvt. Ltd.',\n",
       " 'GENPACT India Private Limited',\n",
       " 'GENPACT India Private Limited',\n",
       " 'NTT Data Business Solutions Pvt Ltd',\n",
       " 'GENPACT India Private Limited',\n",
       " 'GI Group',\n",
       " 'GI Group',\n",
       " 'GI Group',\n",
       " 'Steria India Ltd',\n",
       " 'Zyoin']"
      ]
     },
     "execution_count": 19,
     "metadata": {},
     "output_type": "execute_result"
    }
   ],
   "source": [
    "companies =[]\n",
    "comp = driver.find_elements_by_xpath(\"//p[@class='company body-medium']\")\n",
    "for i in comp:\n",
    "    company.append(i.text)\n",
    "company = company[:10]\n",
    "company"
   ]
  },
  {
   "cell_type": "code",
   "execution_count": 9,
   "metadata": {},
   "outputs": [
    {
     "data": {
      "text/plain": [
       "['5d ago',\n",
       " '12d ago',\n",
       " '12d ago',\n",
       " '13d ago',\n",
       " '14d ago',\n",
       " '6d ago',\n",
       " '6d ago',\n",
       " '10d ago',\n",
       " '1mon ago',\n",
       " '7d ago']"
      ]
     },
     "execution_count": 9,
     "metadata": {},
     "output_type": "execute_result"
    }
   ],
   "source": [
    "days =[]\n",
    "days_tag = driver.find_elements_by_xpath(\"//span[@class='body-small-l']\")\n",
    "for i in days_tag:\n",
    "    days.append(i.text)\n",
    "days =days[0:20:2]\n",
    "days"
   ]
  },
  {
   "cell_type": "code",
   "execution_count": 8,
   "metadata": {},
   "outputs": [
    {
     "data": {
      "text/plain": [
       "['4.1', '4.0', '4.0', '3.8', '4.0', '4.0', '4.0', '4.0', '4.1', '4.1']"
      ]
     },
     "execution_count": 8,
     "metadata": {},
     "output_type": "execute_result"
    }
   ],
   "source": [
    "rating=[]\n",
    "rate_tag = driver.find_elements_by_xpath(\"//span[@class='body-small']\")\n",
    "for i in rate_tag:\n",
    "    rating.append(i.text)\n",
    "rating = rating[0:10]\n",
    "rating"
   ]
  },
  {
   "cell_type": "code",
   "execution_count": 20,
   "metadata": {},
   "outputs": [
    {
     "name": "stdout",
     "output_type": "stream",
     "text": [
      "10 10 10\n"
     ]
    }
   ],
   "source": [
    "print(len(company),len(days),len(rating))"
   ]
  },
  {
   "cell_type": "code",
   "execution_count": 21,
   "metadata": {},
   "outputs": [
    {
     "data": {
      "text/html": [
       "<div>\n",
       "<style scoped>\n",
       "    .dataframe tbody tr th:only-of-type {\n",
       "        vertical-align: middle;\n",
       "    }\n",
       "\n",
       "    .dataframe tbody tr th {\n",
       "        vertical-align: top;\n",
       "    }\n",
       "\n",
       "    .dataframe thead th {\n",
       "        text-align: right;\n",
       "    }\n",
       "</style>\n",
       "<table border=\"1\" class=\"dataframe\">\n",
       "  <thead>\n",
       "    <tr style=\"text-align: right;\">\n",
       "      <th></th>\n",
       "      <th>Company</th>\n",
       "      <th>Posted Day</th>\n",
       "      <th>Rating</th>\n",
       "    </tr>\n",
       "  </thead>\n",
       "  <tbody>\n",
       "    <tr>\n",
       "      <th>0</th>\n",
       "      <td>LG Electronics India Pvt. Ltd.</td>\n",
       "      <td>5d ago</td>\n",
       "      <td>4.1</td>\n",
       "    </tr>\n",
       "    <tr>\n",
       "      <th>1</th>\n",
       "      <td>GENPACT India Private Limited</td>\n",
       "      <td>12d ago</td>\n",
       "      <td>4.0</td>\n",
       "    </tr>\n",
       "    <tr>\n",
       "      <th>2</th>\n",
       "      <td>GENPACT India Private Limited</td>\n",
       "      <td>12d ago</td>\n",
       "      <td>4.0</td>\n",
       "    </tr>\n",
       "    <tr>\n",
       "      <th>3</th>\n",
       "      <td>NTT Data Business Solutions Pvt Ltd</td>\n",
       "      <td>13d ago</td>\n",
       "      <td>3.8</td>\n",
       "    </tr>\n",
       "    <tr>\n",
       "      <th>4</th>\n",
       "      <td>GENPACT India Private Limited</td>\n",
       "      <td>14d ago</td>\n",
       "      <td>4.0</td>\n",
       "    </tr>\n",
       "    <tr>\n",
       "      <th>5</th>\n",
       "      <td>GI Group</td>\n",
       "      <td>6d ago</td>\n",
       "      <td>4.0</td>\n",
       "    </tr>\n",
       "    <tr>\n",
       "      <th>6</th>\n",
       "      <td>GI Group</td>\n",
       "      <td>6d ago</td>\n",
       "      <td>4.0</td>\n",
       "    </tr>\n",
       "    <tr>\n",
       "      <th>7</th>\n",
       "      <td>GI Group</td>\n",
       "      <td>10d ago</td>\n",
       "      <td>4.0</td>\n",
       "    </tr>\n",
       "    <tr>\n",
       "      <th>8</th>\n",
       "      <td>Steria India Ltd</td>\n",
       "      <td>1mon ago</td>\n",
       "      <td>4.1</td>\n",
       "    </tr>\n",
       "    <tr>\n",
       "      <th>9</th>\n",
       "      <td>Zyoin</td>\n",
       "      <td>7d ago</td>\n",
       "      <td>4.1</td>\n",
       "    </tr>\n",
       "  </tbody>\n",
       "</table>\n",
       "</div>"
      ],
      "text/plain": [
       "                               Company Posted Day Rating\n",
       "0       LG Electronics India Pvt. Ltd.     5d ago    4.1\n",
       "1        GENPACT India Private Limited    12d ago    4.0\n",
       "2        GENPACT India Private Limited    12d ago    4.0\n",
       "3  NTT Data Business Solutions Pvt Ltd    13d ago    3.8\n",
       "4        GENPACT India Private Limited    14d ago    4.0\n",
       "5                             GI Group     6d ago    4.0\n",
       "6                             GI Group     6d ago    4.0\n",
       "7                             GI Group    10d ago    4.0\n",
       "8                     Steria India Ltd   1mon ago    4.1\n",
       "9                                Zyoin     7d ago    4.1"
      ]
     },
     "execution_count": 21,
     "metadata": {},
     "output_type": "execute_result"
    }
   ],
   "source": [
    "df = pd.DataFrame({'Company':company,'Posted Day':days,'Rating':rating})\n",
    "df"
   ]
  },
  {
   "cell_type": "markdown",
   "metadata": {},
   "source": [
    "# Question 10"
   ]
  },
  {
   "cell_type": "code",
   "execution_count": 71,
   "metadata": {},
   "outputs": [],
   "source": [
    "driver = webdriver.Chrome(r\"C:/Users/RAJIT/Downloads/chromedriver_win32/chromedriver.exe\")"
   ]
  },
  {
   "cell_type": "code",
   "execution_count": 72,
   "metadata": {},
   "outputs": [],
   "source": [
    "driver.get(\"https://www.ambitionbox.com/profile/data-scientist-salary\")"
   ]
  },
  {
   "cell_type": "code",
   "execution_count": 73,
   "metadata": {},
   "outputs": [],
   "source": [
    "names =[]\n",
    "total_salary=[]\n",
    "min_salary =[]\n",
    "max_salary =[]\n",
    "avg_salary =[]\n",
    "experience =[]"
   ]
  },
  {
   "cell_type": "code",
   "execution_count": 74,
   "metadata": {},
   "outputs": [
    {
     "data": {
      "text/plain": [
       "['TCS',\n",
       " 'Accenture',\n",
       " 'IBM',\n",
       " 'Cognizant',\n",
       " 'Capgemini',\n",
       " 'Tech Mahindra',\n",
       " 'Infosys',\n",
       " 'Wipro',\n",
       " 'Ericsson',\n",
       " 'HCL Technologies']"
      ]
     },
     "execution_count": 74,
     "metadata": {},
     "output_type": "execute_result"
    }
   ],
   "source": [
    "names_tag = driver.find_elements_by_xpath(\"//div[@class='name']/a\")\n",
    "for i in names_tag:\n",
    "    name =i.text\n",
    "    names.append(name)\n",
    "names"
   ]
  },
  {
   "cell_type": "code",
   "execution_count": 108,
   "metadata": {},
   "outputs": [
    {
     "data": {
      "text/plain": [
       "['₹ 7.4L',\n",
       " '₹ 11.9L',\n",
       " '₹ 11.7L',\n",
       " '₹ 9.5L',\n",
       " '₹ 8.2L',\n",
       " '₹ 7.8L',\n",
       " '₹ 8.6L',\n",
       " '₹ 9.4L',\n",
       " '₹ 13.3L',\n",
       " '₹ 9.4L']"
      ]
     },
     "execution_count": 108,
     "metadata": {},
     "output_type": "execute_result"
    }
   ],
   "source": [
    "avg_sal_tag = driver.find_elements_by_xpath(\"//div[@class='average-indicator-wrapper']//p[@class='averageCtc']\")\n",
    "for i in avg_sal_tag:\n",
    "    avg=i.text\n",
    "    avg_salary.append(avg)\n",
    "avg_salary = avg_salary[19:29]\n",
    "avg_salary"
   ]
  },
  {
   "cell_type": "code",
   "execution_count": 97,
   "metadata": {},
   "outputs": [
    {
     "data": {
      "text/plain": [
       "['₹ 4.4L',\n",
       " '₹ 5.5L',\n",
       " '₹ 5.0L',\n",
       " '₹ 5.0L',\n",
       " '₹ 4.6L',\n",
       " '₹ 4.1L',\n",
       " '₹ 4.5L',\n",
       " '₹ 4.4L',\n",
       " '₹ 5.3L',\n",
       " '₹ 4.5L']"
      ]
     },
     "execution_count": 97,
     "metadata": {},
     "output_type": "execute_result"
    }
   ],
   "source": [
    "min_sal_tag = driver.find_elements_by_xpath(\"//div[@class='result-col salary-range']//div[@class='salary-values']//div[1]\")\n",
    "for i in min_sal_tag:\n",
    "    min=i.text\n",
    "    min_salary.append(min)\n",
    "min_salary = min_salary[:10]\n",
    "min_salary"
   ]
  },
  {
   "cell_type": "code",
   "execution_count": 87,
   "metadata": {},
   "outputs": [
    {
     "data": {
      "text/plain": [
       "['₹ 15.0L',\n",
       " '₹ 22.0L',\n",
       " '₹ 22.5L',\n",
       " '₹ 17.0L',\n",
       " '₹ 14.3L',\n",
       " '₹ 16.4L',\n",
       " '₹ 21.0L',\n",
       " '₹ 18.0L',\n",
       " '₹ 25.0L',\n",
       " '₹ 20.0L']"
      ]
     },
     "execution_count": 87,
     "metadata": {},
     "output_type": "execute_result"
    }
   ],
   "source": [
    "max_sal_tag = driver.find_elements_by_xpath(\"//div[@class='result-col salary-range']//div[@class='salary-values']//div[2]\")\n",
    "for i in max_sal_tag:\n",
    "    max=i.text\n",
    "    max_salary.append(max)\n",
    "max_salary =max_salary[:10]\n",
    "max_salary"
   ]
  },
  {
   "cell_type": "code",
   "execution_count": 78,
   "metadata": {},
   "outputs": [
    {
     "data": {
      "text/plain": [
       "['2-9 yrs exp',\n",
       " '2-9 yrs exp',\n",
       " '2-12 yrs exp',\n",
       " '2-11 yrs exp',\n",
       " '2-8 yrs exp',\n",
       " '2-13 yrs exp',\n",
       " '2-8 yrs exp',\n",
       " '2-9 yrs exp',\n",
       " '2-12 yrs exp',\n",
       " '2-10 yrs exp']"
      ]
     },
     "execution_count": 78,
     "metadata": {},
     "output_type": "execute_result"
    }
   ],
   "source": [
    "exp_tag = driver.find_elements_by_xpath(\"//div[@class='salaries one-line sbold-list-header']/span\")\n",
    "for i in exp_tag:\n",
    "    exp = i.text\n",
    "    experience.append(exp)\n",
    "experience"
   ]
  },
  {
   "cell_type": "code",
   "execution_count": 79,
   "metadata": {},
   "outputs": [
    {
     "data": {
      "text/plain": [
       "['(623 Salaries)',\n",
       " '(377 Salaries)',\n",
       " '(303 Salaries)',\n",
       " '(247 Salaries)',\n",
       " '(234 Salaries)',\n",
       " '(188 Salaries)',\n",
       " '(173 Salaries)',\n",
       " '(167 Salaries)',\n",
       " '(124 Salaries)',\n",
       " '(124 Salaries)']"
      ]
     },
     "execution_count": 79,
     "metadata": {},
     "output_type": "execute_result"
    }
   ],
   "source": [
    "tot_sal_tag =driver.find_elements_by_xpath(\"//div[@class='name']/span\")\n",
    "for i in tot_sal_tag:\n",
    "    tot = i.text\n",
    "    total_salary.append(tot)\n",
    "total_salary"
   ]
  },
  {
   "cell_type": "code",
   "execution_count": 110,
   "metadata": {},
   "outputs": [
    {
     "name": "stdout",
     "output_type": "stream",
     "text": [
      "10 10 10 10 10 10\n"
     ]
    }
   ],
   "source": [
    "print(len(names),len(total_salary),len(avg_salary),len(avg_salary),len(min_salary),len(max_salary))"
   ]
  },
  {
   "cell_type": "code",
   "execution_count": 109,
   "metadata": {
    "scrolled": true
   },
   "outputs": [
    {
     "data": {
      "text/html": [
       "<div>\n",
       "<style scoped>\n",
       "    .dataframe tbody tr th:only-of-type {\n",
       "        vertical-align: middle;\n",
       "    }\n",
       "\n",
       "    .dataframe tbody tr th {\n",
       "        vertical-align: top;\n",
       "    }\n",
       "\n",
       "    .dataframe thead th {\n",
       "        text-align: right;\n",
       "    }\n",
       "</style>\n",
       "<table border=\"1\" class=\"dataframe\">\n",
       "  <thead>\n",
       "    <tr style=\"text-align: right;\">\n",
       "      <th></th>\n",
       "      <th>Company</th>\n",
       "      <th>Number Of Salaries</th>\n",
       "      <th>Average Salaries</th>\n",
       "      <th>Minimum Salary</th>\n",
       "      <th>Maximum Salary</th>\n",
       "    </tr>\n",
       "  </thead>\n",
       "  <tbody>\n",
       "    <tr>\n",
       "      <th>0</th>\n",
       "      <td>TCS</td>\n",
       "      <td>(623 Salaries)</td>\n",
       "      <td>₹ 7.4L</td>\n",
       "      <td>₹ 4.4L</td>\n",
       "      <td>₹ 15.0L</td>\n",
       "    </tr>\n",
       "    <tr>\n",
       "      <th>1</th>\n",
       "      <td>Accenture</td>\n",
       "      <td>(377 Salaries)</td>\n",
       "      <td>₹ 11.9L</td>\n",
       "      <td>₹ 5.5L</td>\n",
       "      <td>₹ 22.0L</td>\n",
       "    </tr>\n",
       "    <tr>\n",
       "      <th>2</th>\n",
       "      <td>IBM</td>\n",
       "      <td>(303 Salaries)</td>\n",
       "      <td>₹ 11.7L</td>\n",
       "      <td>₹ 5.0L</td>\n",
       "      <td>₹ 22.5L</td>\n",
       "    </tr>\n",
       "    <tr>\n",
       "      <th>3</th>\n",
       "      <td>Cognizant</td>\n",
       "      <td>(247 Salaries)</td>\n",
       "      <td>₹ 9.5L</td>\n",
       "      <td>₹ 5.0L</td>\n",
       "      <td>₹ 17.0L</td>\n",
       "    </tr>\n",
       "    <tr>\n",
       "      <th>4</th>\n",
       "      <td>Capgemini</td>\n",
       "      <td>(234 Salaries)</td>\n",
       "      <td>₹ 8.2L</td>\n",
       "      <td>₹ 4.6L</td>\n",
       "      <td>₹ 14.3L</td>\n",
       "    </tr>\n",
       "    <tr>\n",
       "      <th>5</th>\n",
       "      <td>Tech Mahindra</td>\n",
       "      <td>(188 Salaries)</td>\n",
       "      <td>₹ 7.8L</td>\n",
       "      <td>₹ 4.1L</td>\n",
       "      <td>₹ 16.4L</td>\n",
       "    </tr>\n",
       "    <tr>\n",
       "      <th>6</th>\n",
       "      <td>Infosys</td>\n",
       "      <td>(173 Salaries)</td>\n",
       "      <td>₹ 8.6L</td>\n",
       "      <td>₹ 4.5L</td>\n",
       "      <td>₹ 21.0L</td>\n",
       "    </tr>\n",
       "    <tr>\n",
       "      <th>7</th>\n",
       "      <td>Wipro</td>\n",
       "      <td>(167 Salaries)</td>\n",
       "      <td>₹ 9.4L</td>\n",
       "      <td>₹ 4.4L</td>\n",
       "      <td>₹ 18.0L</td>\n",
       "    </tr>\n",
       "    <tr>\n",
       "      <th>8</th>\n",
       "      <td>Ericsson</td>\n",
       "      <td>(124 Salaries)</td>\n",
       "      <td>₹ 13.3L</td>\n",
       "      <td>₹ 5.3L</td>\n",
       "      <td>₹ 25.0L</td>\n",
       "    </tr>\n",
       "    <tr>\n",
       "      <th>9</th>\n",
       "      <td>HCL Technologies</td>\n",
       "      <td>(124 Salaries)</td>\n",
       "      <td>₹ 9.4L</td>\n",
       "      <td>₹ 4.5L</td>\n",
       "      <td>₹ 20.0L</td>\n",
       "    </tr>\n",
       "  </tbody>\n",
       "</table>\n",
       "</div>"
      ],
      "text/plain": [
       "            Company Number Of Salaries Average Salaries Minimum Salary  \\\n",
       "0               TCS     (623 Salaries)           ₹ 7.4L         ₹ 4.4L   \n",
       "1         Accenture     (377 Salaries)          ₹ 11.9L         ₹ 5.5L   \n",
       "2               IBM     (303 Salaries)          ₹ 11.7L         ₹ 5.0L   \n",
       "3         Cognizant     (247 Salaries)           ₹ 9.5L         ₹ 5.0L   \n",
       "4         Capgemini     (234 Salaries)           ₹ 8.2L         ₹ 4.6L   \n",
       "5     Tech Mahindra     (188 Salaries)           ₹ 7.8L         ₹ 4.1L   \n",
       "6           Infosys     (173 Salaries)           ₹ 8.6L         ₹ 4.5L   \n",
       "7             Wipro     (167 Salaries)           ₹ 9.4L         ₹ 4.4L   \n",
       "8          Ericsson     (124 Salaries)          ₹ 13.3L         ₹ 5.3L   \n",
       "9  HCL Technologies     (124 Salaries)           ₹ 9.4L         ₹ 4.5L   \n",
       "\n",
       "  Maximum Salary  \n",
       "0        ₹ 15.0L  \n",
       "1        ₹ 22.0L  \n",
       "2        ₹ 22.5L  \n",
       "3        ₹ 17.0L  \n",
       "4        ₹ 14.3L  \n",
       "5        ₹ 16.4L  \n",
       "6        ₹ 21.0L  \n",
       "7        ₹ 18.0L  \n",
       "8        ₹ 25.0L  \n",
       "9        ₹ 20.0L  "
      ]
     },
     "execution_count": 109,
     "metadata": {},
     "output_type": "execute_result"
    }
   ],
   "source": [
    "df = pd.DataFrame({'Company':names,'Number Of Salaries':total_salary,'Average Salaries':avg_salary,\\\n",
    "                   'Minimum Salary':min_salary,'Maximum Salary':max_salary\n",
    "                  })\n",
    "df"
   ]
  }
 ],
 "metadata": {
  "kernelspec": {
   "display_name": "Python 3",
   "language": "python",
   "name": "python3"
  },
  "language_info": {
   "codemirror_mode": {
    "name": "ipython",
    "version": 3
   },
   "file_extension": ".py",
   "mimetype": "text/x-python",
   "name": "python",
   "nbconvert_exporter": "python",
   "pygments_lexer": "ipython3",
   "version": "3.8.5"
  }
 },
 "nbformat": 4,
 "nbformat_minor": 4
}
